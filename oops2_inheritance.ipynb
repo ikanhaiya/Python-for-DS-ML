{
 "cells": [
  {
   "cell_type": "code",
   "execution_count": null,
   "metadata": {},
   "outputs": [
    {
     "name": "stdout",
     "output_type": "stream",
     "text": [
      "I am parent and i have house\n",
      "i am child i have car\n",
      "I have duplex\n",
      "i am child i have car\n"
     ]
    }
   ],
   "source": [
    "# Inheritance for code reusability and extensability.\n",
    "# inheritance is a relationship. \n",
    "# single inheritance \n",
    "\n",
    "\n",
    "class parent:\n",
    "    \n",
    "    def house(self):\n",
    "        print(\"I am parent and i have house\")\n",
    "    \n",
    "class child(parent):\n",
    "\n",
    "    def car(self):\n",
    "        print(\"i am child i have car\")\n",
    "\n",
    "class child2(parent):\n",
    "    def house(self):\n",
    "        print(\"I have duplex\")\n",
    "\n",
    "# multilevel inheritance.\n",
    "class gc(child):\n",
    "    def bike(self):\n",
    "        print(\"I am gc and i have a bike\")\n",
    "\n",
    "\n",
    "ob = child()\n",
    "ob.house()\n",
    "ob.car()\n",
    "\n",
    "ob2 = child2()\n",
    "ob2.house()\n",
    "\n",
    "ob1 = gc()\n",
    "ob1.car()\n",
    "\n"
   ]
  }
 ],
 "metadata": {
  "kernelspec": {
   "display_name": "Python 3",
   "language": "python",
   "name": "python3"
  },
  "language_info": {
   "codemirror_mode": {
    "name": "ipython",
    "version": 3
   },
   "file_extension": ".py",
   "mimetype": "text/x-python",
   "name": "python",
   "nbconvert_exporter": "python",
   "pygments_lexer": "ipython3",
   "version": "3.10.12"
  }
 },
 "nbformat": 4,
 "nbformat_minor": 2
}
