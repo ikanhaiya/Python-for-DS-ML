{
 "cells": [
  {
   "cell_type": "code",
   "execution_count": null,
   "metadata": {},
   "outputs": [
    {
     "name": "stdout",
     "output_type": "stream",
     "text": [
      "lok\n",
      "20\n",
      "30\n",
      "30\n",
      "50\n",
      "I am private method\n"
     ]
    }
   ],
   "source": [
    " #Encapsulation \n",
    "\n",
    "class Emp:\n",
    "    def __init__(self, name, age, salary):\n",
    "        self.name = name #public -> accessible outside the class.\n",
    "        self._age = age  #protected-> accessible only which are derived from base class. '_' access in class and subclass\n",
    "        self.__salary = salary # private -> cant use outside the class. access only in class. \n",
    "\n",
    "    ## getter method\n",
    "    def get_salary(self):\n",
    "        return self.__salary\n",
    "\n",
    "    def set_salary(self, usalary):\n",
    "        self.__salary = usalary\n",
    "\n",
    "    def __verification(self): # private method. \n",
    "        print(\"I am private method\")\n",
    "        \n",
    "\n",
    "\n",
    "ob = Emp(\"lok\", 20, 30)\n",
    "print(ob.name)\n",
    "print(ob._age)\n",
    "#print(ob.__salary) # cant access outside the class.\n",
    "\n",
    "#accessing private variable.\n",
    "print(ob._Emp__salary) # access private variable outside the class.  _className__variableName\n",
    "\n",
    "print(ob.get_salary()) # accessing pvt variable using getter method(correct way)\n",
    "\n",
    "ob.set_salary(50)\n",
    "print(ob.get_salary())\n",
    "\n",
    "ob._Emp__verification() # accessing private method same as pvt variable\n",
    "\n",
    "\n",
    "      "
   ]
  },
  {
   "cell_type": "markdown",
   "metadata": {},
   "source": [
    "<h3>Abstraction</h3>\n",
    "<p>Abstraction is hiding the internal data.By default python does not provide abstract classes.Python comes with module which provide the base for defining the Abstract base classes as implementation of the abstract base. <ul>A method becomes abstract when decorated with keyword @abstractmethod</ul></p>\n",
    "<p>What if I dont want to allow any user to create object from my parent class. </p>\n",
    "<p>Method of parent class should be implemented in the child class.</p>\n",
    "<p> The abstract method is just providing a declaration. The child classes need to provide the definition.</p>\n",
    "<p>A class is abstract class if it has any abstractmehtod. @abstractmetho</p>\n",
    "\n",
    "<p>Abstract method needs to be implemented in child class to be able to create the object of the child class.</p>\n"
   ]
  },
  {
   "cell_type": "code",
   "execution_count": 14,
   "metadata": {},
   "outputs": [],
   "source": [
    "#Abstraction \n",
    "\n",
    "from abc import ABC, abstractmethod\n",
    "class mobile_design(ABC): # abstract class.\n",
    "    \n",
    "    @abstractmethod\n",
    "    def camera(self): # mandatory\n",
    "        pass\n",
    "    \n",
    "    @abstractmethod\n",
    "    def screen(self): # mandatory\n",
    "        pass\n",
    "\n",
    "    def wireless_charging(self): # not mandatory\n",
    "        pass\n",
    "\n",
    "class test(mobile_design): # test inherits abstract class mobile_design, test also becomes abstract class.\n",
    "\n",
    "    def camera(self):\n",
    "        print(\"this is dual camera\")\n",
    "\n",
    "    def screen(self):\n",
    "        print(\"This is 98 screen\")\n",
    "\n",
    "a = test()\n",
    "\n",
    "\n",
    "\n",
    "         \n",
    "        "
   ]
  }
 ],
 "metadata": {
  "kernelspec": {
   "display_name": "Python 3",
   "language": "python",
   "name": "python3"
  },
  "language_info": {
   "codemirror_mode": {
    "name": "ipython",
    "version": 3
   },
   "file_extension": ".py",
   "mimetype": "text/x-python",
   "name": "python",
   "nbconvert_exporter": "python",
   "pygments_lexer": "ipython3",
   "version": "3.10.12"
  }
 },
 "nbformat": 4,
 "nbformat_minor": 2
}
