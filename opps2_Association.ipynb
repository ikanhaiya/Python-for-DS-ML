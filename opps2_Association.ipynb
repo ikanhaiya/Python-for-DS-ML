{
 "cells": [
  {
   "cell_type": "markdown",
   "metadata": {},
   "source": [
    "Association (has a relationship)\n",
    "\n",
    "1. Composition (Strong Association)->  In composition one of the classes is composed of one or more instance of the other classes.\n",
    "In other words one class is container and other class is content and if you delete the container then its all of the content will be also deleted'''\n",
    "\n",
    "2. Aggregation (weak association) weak form of composition. If you delete the container object contents object can live \n",
    "without container objects. Eg. Body can survive without hand, Nike mens wear nike can go on with womens wear only\n"
   ]
  },
  {
   "cell_type": "code",
   "execution_count": null,
   "metadata": {},
   "outputs": [
    {
     "name": "stdout",
     "output_type": "stream",
     "text": [
      "welcome to myntra\n",
      "welcome to mens section\n",
      "welcome to womens section\n"
     ]
    }
   ],
   "source": [
    "\n",
    "\n",
    "class myntra:\n",
    "    def __init__(self):\n",
    "        print(\"welcome to myntra\")\n",
    "    \n",
    "    class mens:\n",
    "        def __init__(self):\n",
    "            print(\"welcome to mens section\")\n",
    "        \n",
    "        class footware:\n",
    "\n",
    "            def __init__(self):\n",
    "                print(\"welcome to mens footware\")\n",
    "\n",
    "            def woodland(self):\n",
    "                print(\"woodland for mens\")\n",
    "            \n",
    "            def nike(self):\n",
    "                print(\"crocs for men\")\n",
    "        \n",
    "        class clothing:\n",
    "\n",
    "            def __init__(self):\n",
    "                print(\"welcome to mens clothing\")\n",
    "\n",
    "            def jj(self):\n",
    "                print(\"jj for mens\")\n",
    "            \n",
    "            def ck(self):\n",
    "                print(\"ck for mens\")\n",
    "    \n",
    "    class womens:\n",
    "        def __init__(self):\n",
    "            print(\"welcome to womens section\")\n",
    "        \n",
    "        class footware:\n",
    "            \n",
    "            def __init__(self):\n",
    "                print(\"welcome to womens footware\")\n",
    "\n",
    "            def woodland(self):\n",
    "                print(\"woodland for womens\")\n",
    "            \n",
    "            def nike(self):\n",
    "                print(\"crocs for womens\")\n",
    "        \n",
    "        class clothing:\n",
    "\n",
    "            def __init__(self):\n",
    "                print(\"welcome to womens clothing\")\n",
    "\n",
    "            def jj(self):\n",
    "                print(\"jj for womens\")\n",
    "            \n",
    "            def ck(self):\n",
    "                print(\"ck for womens\")\n",
    "\n",
    "ob1 = myntra # refrencing ob1 to myntra class. \n",
    "\n",
    "obj1 = ob1() # creating a object from ob1 which is refrencing myntra class.\n",
    "men = myntra.mens() # creating content class by using myntra class.\n",
    "women = myntra.womens()\n",
    "\n",
    "\n",
    "\n",
    "\n",
    "\n"
   ]
  },
  {
   "cell_type": "code",
   "execution_count": null,
   "metadata": {
    "notebookRunGroups": {
     "groupValue": "2"
    }
   },
   "outputs": [
    {
     "name": "stdout",
     "output_type": "stream",
     "text": [
      "Emp name:  sunil\n",
      "Emp no :  1234\n",
      "emp laptop details : \n",
      "laptop brand is dell\n",
      " color is: black \n",
      " inch:14\n"
     ]
    }
   ],
   "source": [
    "# Strong composition another example. \n",
    "class laptop:\n",
    "    def __init__(self, brand, color, inch):\n",
    "        self.brand = brand\n",
    "        self.color = color \n",
    "        self.inch = inch\n",
    "    \n",
    "    def laptop_info(self):\n",
    "        print(f\"laptop brand is {self.brand}\\n color is: {self.color} \\n inch:{self.inch}\")\n",
    "\n",
    "class emp:\n",
    "    def __init__(self,ename, eno, lpt):\n",
    "        self.ename = ename\n",
    "        self.eno = eno \n",
    "        self.lpt = lpt\n",
    "     \n",
    "    def emp_info(self):\n",
    "        print(\"Emp name: \", self.ename)\n",
    "        print(\"Emp no : \", self.eno)\n",
    "        print(\"emp laptop details : \")\n",
    "        self.lpt.laptop_info()\n",
    "\n",
    "laptop1 = laptop('dell', 'black', '14')\n",
    "\n",
    "emp1 = emp(\"sunil\",1234, laptop1)\n",
    "emp1.emp_info()\n",
    "\n",
    "        "
   ]
  },
  {
   "cell_type": "code",
   "execution_count": null,
   "metadata": {},
   "outputs": [],
   "source": []
  },
  {
   "cell_type": "code",
   "execution_count": null,
   "metadata": {},
   "outputs": [],
   "source": []
  }
 ],
 "metadata": {
  "kernelspec": {
   "display_name": "Python 3",
   "language": "python",
   "name": "python3"
  },
  "language_info": {
   "codemirror_mode": {
    "name": "ipython",
    "version": 3
   },
   "file_extension": ".py",
   "mimetype": "text/x-python",
   "name": "python",
   "nbconvert_exporter": "python",
   "pygments_lexer": "ipython3",
   "version": "3.10.12"
  }
 },
 "nbformat": 4,
 "nbformat_minor": 2
}
