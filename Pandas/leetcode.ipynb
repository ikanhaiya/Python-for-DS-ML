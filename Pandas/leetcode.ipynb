{
 "cells": [
  {
   "cell_type": "code",
   "execution_count": 5,
   "metadata": {},
   "outputs": [],
   "source": [
    "import pandas as pd"
   ]
  },
  {
   "cell_type": "markdown",
   "metadata": {},
   "source": [
    "<h5> 2877 . Create DataFrame from a list</h5>"
   ]
  },
  {
   "cell_type": "code",
   "execution_count": 6,
   "metadata": {},
   "outputs": [
    {
     "data": {
      "text/html": [
       "<div>\n",
       "<style scoped>\n",
       "    .dataframe tbody tr th:only-of-type {\n",
       "        vertical-align: middle;\n",
       "    }\n",
       "\n",
       "    .dataframe tbody tr th {\n",
       "        vertical-align: top;\n",
       "    }\n",
       "\n",
       "    .dataframe thead th {\n",
       "        text-align: right;\n",
       "    }\n",
       "</style>\n",
       "<table border=\"1\" class=\"dataframe\">\n",
       "  <thead>\n",
       "    <tr style=\"text-align: right;\">\n",
       "      <th></th>\n",
       "      <th>student_id</th>\n",
       "      <th>Age</th>\n",
       "    </tr>\n",
       "  </thead>\n",
       "  <tbody>\n",
       "    <tr>\n",
       "      <th>0</th>\n",
       "      <td>1</td>\n",
       "      <td>15</td>\n",
       "    </tr>\n",
       "    <tr>\n",
       "      <th>1</th>\n",
       "      <td>2</td>\n",
       "      <td>11</td>\n",
       "    </tr>\n",
       "    <tr>\n",
       "      <th>2</th>\n",
       "      <td>3</td>\n",
       "      <td>11</td>\n",
       "    </tr>\n",
       "    <tr>\n",
       "      <th>3</th>\n",
       "      <td>4</td>\n",
       "      <td>20</td>\n",
       "    </tr>\n",
       "  </tbody>\n",
       "</table>\n",
       "</div>"
      ],
      "text/plain": [
       "   student_id  Age\n",
       "0           1   15\n",
       "1           2   11\n",
       "2           3   11\n",
       "3           4   20"
      ]
     },
     "execution_count": 6,
     "metadata": {},
     "output_type": "execute_result"
    }
   ],
   "source": [
    "\n",
    "student_data = [[1,15],[2,11],[3,11],[4,20]]\n",
    "data = pd.DataFrame(student_data, columns=['student_id', 'Age'], index=None)\n",
    "data"
   ]
  },
  {
   "cell_type": "markdown",
   "metadata": {},
   "source": [
    "<h5>2891. Method Chaining</h5>"
   ]
  },
  {
   "cell_type": "code",
   "execution_count": 7,
   "metadata": {},
   "outputs": [
    {
     "data": {
      "text/html": [
       "<div>\n",
       "<style scoped>\n",
       "    .dataframe tbody tr th:only-of-type {\n",
       "        vertical-align: middle;\n",
       "    }\n",
       "\n",
       "    .dataframe tbody tr th {\n",
       "        vertical-align: top;\n",
       "    }\n",
       "\n",
       "    .dataframe thead th {\n",
       "        text-align: right;\n",
       "    }\n",
       "</style>\n",
       "<table border=\"1\" class=\"dataframe\">\n",
       "  <thead>\n",
       "    <tr style=\"text-align: right;\">\n",
       "      <th></th>\n",
       "      <th>name</th>\n",
       "    </tr>\n",
       "  </thead>\n",
       "  <tbody>\n",
       "    <tr>\n",
       "      <th>0</th>\n",
       "      <td>Tatiana</td>\n",
       "    </tr>\n",
       "    <tr>\n",
       "      <th>3</th>\n",
       "      <td>Jonathan</td>\n",
       "    </tr>\n",
       "    <tr>\n",
       "      <th>5</th>\n",
       "      <td>Tommy</td>\n",
       "    </tr>\n",
       "    <tr>\n",
       "      <th>2</th>\n",
       "      <td>Alex</td>\n",
       "    </tr>\n",
       "  </tbody>\n",
       "</table>\n",
       "</div>"
      ],
      "text/plain": [
       "       name\n",
       "0   Tatiana\n",
       "3  Jonathan\n",
       "5     Tommy\n",
       "2      Alex"
      ]
     },
     "execution_count": 7,
     "metadata": {},
     "output_type": "execute_result"
    }
   ],
   "source": [
    "#Write a solution to list the names of animals that weigh strictly more than 100 kilograms.\n",
    "data = {\n",
    "    'name': ['Tatiana', 'Khaled', 'Alex', 'Jonathan', 'Stefan', 'Tommy'],\n",
    "    'species': ['Snake', 'Giraffe', 'Leopard', 'Monkey', 'Bear', 'Panda'],\n",
    "    'age': [98, 50, 6, 45, 100, 26],\n",
    "    'weight': [464, 41, 328, 463, 50, 349]\n",
    "}\n",
    "\n",
    "animals = pd.DataFrame(data)\n",
    "animals.sort_values(by='weight', ascending=False, inplace=True)\n",
    "a=animals[animals['weight'] > 100]['name']\n",
    "a = pd.DataFrame(a)\n",
    "a\n",
    "\n",
    "\n"
   ]
  },
  {
   "cell_type": "markdown",
   "metadata": {},
   "source": [
    "<h5> 2878 Get the size of the dataframe.</h5>"
   ]
  },
  {
   "cell_type": "code",
   "execution_count": 8,
   "metadata": {},
   "outputs": [
    {
     "data": {
      "text/plain": [
       "list"
      ]
     },
     "execution_count": 8,
     "metadata": {},
     "output_type": "execute_result"
    }
   ],
   "source": [
    "players = [\n",
    "    {\"player_id\": 846, \"name\": \"Mason\", \"age\": 21, \"position\": \"Forward\", \"team\": \"RealMadrid\"},\n",
    "    {\"player_id\": 749, \"name\": \"Riley\", \"age\": 30, \"position\": \"Winger\", \"team\": \"Barcelona\"},\n",
    "    {\"player_id\": 155, \"name\": \"Bob\", \"age\": 28, \"position\": \"Striker\", \"team\": \"ManchesterUnited\"},\n",
    "    {\"player_id\": 583, \"name\": \"Isabella\", \"age\": 32, \"position\": \"Goalkeeper\", \"team\": \"Liverpool\"},\n",
    "    {\"player_id\": 388, \"name\": \"Zachary\", \"age\": 24, \"position\": \"Midfielder\", \"team\": \"BayernMunich\"},\n",
    "    {\"player_id\": 883, \"name\": \"Ava\", \"age\": 23, \"position\": \"Defender\", \"team\": \"Chelsea\"},\n",
    "    {\"player_id\": 355, \"name\": \"Violet\", \"age\": 18, \"position\": \"Striker\", \"team\": \"Juventus\"},\n",
    "    {\"player_id\": 247, \"name\": \"Thomas\", \"age\": 27, \"position\": \"Striker\", \"team\": \"ParisSaint-Germain\"},\n",
    "    {\"player_id\": 761, \"name\": \"Jack\", \"age\": 33, \"position\": \"Midfielder\", \"team\": \"ManchesterCity\"},\n",
    "    {\"player_id\": 642, \"name\": \"Charlie\", \"age\": 36, \"position\": \"Center-back\", \"team\": \"Arsenal\"}\n",
    "]\n",
    "\n",
    "players=pd.DataFrame(players)\n",
    "a = players.shape\n",
    "a = list(a)\n",
    "type(a)\n"
   ]
  },
  {
   "cell_type": "markdown",
   "metadata": {},
   "source": [
    "<h5>2879. Display the first three rows.</h5>"
   ]
  },
  {
   "cell_type": "code",
   "execution_count": 9,
   "metadata": {},
   "outputs": [
    {
     "data": {
      "text/html": [
       "<div>\n",
       "<style scoped>\n",
       "    .dataframe tbody tr th:only-of-type {\n",
       "        vertical-align: middle;\n",
       "    }\n",
       "\n",
       "    .dataframe tbody tr th {\n",
       "        vertical-align: top;\n",
       "    }\n",
       "\n",
       "    .dataframe thead th {\n",
       "        text-align: right;\n",
       "    }\n",
       "</style>\n",
       "<table border=\"1\" class=\"dataframe\">\n",
       "  <thead>\n",
       "    <tr style=\"text-align: right;\">\n",
       "      <th></th>\n",
       "      <th>name</th>\n",
       "      <th>department</th>\n",
       "    </tr>\n",
       "  </thead>\n",
       "  <tbody>\n",
       "    <tr>\n",
       "      <th>0</th>\n",
       "      <td>Bob</td>\n",
       "      <td>Operations</td>\n",
       "    </tr>\n",
       "    <tr>\n",
       "      <th>1</th>\n",
       "      <td>Alice</td>\n",
       "      <td>Sales</td>\n",
       "    </tr>\n",
       "    <tr>\n",
       "      <th>2</th>\n",
       "      <td>Tatiana</td>\n",
       "      <td>Engineering</td>\n",
       "    </tr>\n",
       "  </tbody>\n",
       "</table>\n",
       "</div>"
      ],
      "text/plain": [
       "      name   department\n",
       "0      Bob   Operations\n",
       "1    Alice        Sales\n",
       "2  Tatiana  Engineering"
      ]
     },
     "execution_count": 9,
     "metadata": {},
     "output_type": "execute_result"
    }
   ],
   "source": [
    "employees = [\n",
    "    {\"employee_id\": 3, \"name\": \"Bob\", \"department\": \"Operations\", \"salary\": 48675},\n",
    "    {\"employee_id\": 90, \"name\": \"Alice\", \"department\": \"Sales\", \"salary\": 11096},\n",
    "    {\"employee_id\": 9, \"name\": \"Tatiana\", \"department\": \"Engineering\", \"salary\": 33805},\n",
    "    {\"employee_id\": 60, \"name\": \"Annabelle\", \"department\": \"InformationTechnology\", \"salary\": 37678},\n",
    "    {\"employee_id\": 49, \"name\": \"Jonathan\", \"department\": \"HumanResources\", \"salary\": 23793},\n",
    "    {\"employee_id\": 43, \"name\": \"Khaled\", \"department\": \"Administration\", \"salary\": 40454}\n",
    "]\n",
    "\n",
    "employees = pd.DataFrame(employees)\n",
    "# employees.iloc[:3,1] # works on indexing \n",
    "# employees.loc[:3, 'name'] # works on index names(row names) and column names\n",
    "employees.iloc[:3,1 : 3]\n"
   ]
  },
  {
   "cell_type": "markdown",
   "metadata": {},
   "source": [
    "<h5> 2880. Select Data</h5>"
   ]
  },
  {
   "cell_type": "code",
   "execution_count": 10,
   "metadata": {},
   "outputs": [
    {
     "data": {
      "text/html": [
       "<div>\n",
       "<style scoped>\n",
       "    .dataframe tbody tr th:only-of-type {\n",
       "        vertical-align: middle;\n",
       "    }\n",
       "\n",
       "    .dataframe tbody tr th {\n",
       "        vertical-align: top;\n",
       "    }\n",
       "\n",
       "    .dataframe thead th {\n",
       "        text-align: right;\n",
       "    }\n",
       "</style>\n",
       "<table border=\"1\" class=\"dataframe\">\n",
       "  <thead>\n",
       "    <tr style=\"text-align: right;\">\n",
       "      <th></th>\n",
       "      <th>name</th>\n",
       "      <th>age</th>\n",
       "    </tr>\n",
       "  </thead>\n",
       "  <tbody>\n",
       "    <tr>\n",
       "      <th>0</th>\n",
       "      <td>Ulysses</td>\n",
       "      <td>13</td>\n",
       "    </tr>\n",
       "  </tbody>\n",
       "</table>\n",
       "</div>"
      ],
      "text/plain": [
       "      name  age\n",
       "0  Ulysses   13"
      ]
     },
     "execution_count": 10,
     "metadata": {},
     "output_type": "execute_result"
    }
   ],
   "source": [
    "#Write a solution to select the name and age of the student with student_id = 101.\n",
    "data = {\n",
    "    \"student_id\": [101, 53, 100, 3],\n",
    "    \"name\": [\"Ulysses\", \"William\", \"Henry\", \"Henry\"],\n",
    "    \"age\": [13, 10, 6, 11]\n",
    "}\n",
    "\n",
    "students = pd.DataFrame(data)\n",
    "a = (students[students['student_id']==101]).loc[:,'name':'age']\n",
    "\n",
    "data  = students[students['student_id']==101][['name','age']]\n",
    "# data\n",
    "\n",
    "data = students.loc[students['student_id']==101,'name':]\n",
    "data\n",
    "\n",
    "data = students.loc[students['student_id']==101,'name':'age']\n",
    "data\n",
    "\n",
    "data = students.loc[students['student_id']==101,['name','age']]\n",
    "data\n",
    "\n",
    "\n",
    "data =  students[students['student_id']==101][1:2] #this wont work because [1:2] is applied on the result of students[students['student_id']==101] \n",
    "'''which is same like doing data = students[students['student_id']==101] and then data = data[1:2]'''\n",
    "\n",
    "data\n",
    "\n",
    "data = students[students['student_id']==101].iloc[:,1:3]  # using iloc\n",
    "data\n",
    "\n",
    "data = students.iloc[(students['student_id']==101).values,1:3] # using iloc\n",
    "data\n",
    "\n",
    "data = students.iloc[(students['student_id']==101).values][['name','age']]\n",
    "data\n",
    "\n",
    "# (students['student_id']==101) returns pandas series but .iloc expects array so ().values converts it to numpy boolean array."
   ]
  },
  {
   "cell_type": "markdown",
   "metadata": {},
   "source": [
    "<h5> 2881. Create New Column</h5>"
   ]
  },
  {
   "cell_type": "code",
   "execution_count": 11,
   "metadata": {},
   "outputs": [
    {
     "data": {
      "text/html": [
       "<div>\n",
       "<style scoped>\n",
       "    .dataframe tbody tr th:only-of-type {\n",
       "        vertical-align: middle;\n",
       "    }\n",
       "\n",
       "    .dataframe tbody tr th {\n",
       "        vertical-align: top;\n",
       "    }\n",
       "\n",
       "    .dataframe thead th {\n",
       "        text-align: right;\n",
       "    }\n",
       "</style>\n",
       "<table border=\"1\" class=\"dataframe\">\n",
       "  <thead>\n",
       "    <tr style=\"text-align: right;\">\n",
       "      <th></th>\n",
       "      <th>name</th>\n",
       "      <th>salary</th>\n",
       "      <th>bonus</th>\n",
       "    </tr>\n",
       "  </thead>\n",
       "  <tbody>\n",
       "    <tr>\n",
       "      <th>0</th>\n",
       "      <td>Piper</td>\n",
       "      <td>4548</td>\n",
       "      <td>9096</td>\n",
       "    </tr>\n",
       "    <tr>\n",
       "      <th>1</th>\n",
       "      <td>Grace</td>\n",
       "      <td>28150</td>\n",
       "      <td>56300</td>\n",
       "    </tr>\n",
       "    <tr>\n",
       "      <th>2</th>\n",
       "      <td>Georgia</td>\n",
       "      <td>1103</td>\n",
       "      <td>2206</td>\n",
       "    </tr>\n",
       "    <tr>\n",
       "      <th>3</th>\n",
       "      <td>Willow</td>\n",
       "      <td>6593</td>\n",
       "      <td>13186</td>\n",
       "    </tr>\n",
       "    <tr>\n",
       "      <th>4</th>\n",
       "      <td>Finn</td>\n",
       "      <td>74576</td>\n",
       "      <td>149152</td>\n",
       "    </tr>\n",
       "    <tr>\n",
       "      <th>5</th>\n",
       "      <td>Thomas</td>\n",
       "      <td>24433</td>\n",
       "      <td>48866</td>\n",
       "    </tr>\n",
       "  </tbody>\n",
       "</table>\n",
       "</div>"
      ],
      "text/plain": [
       "      name  salary   bonus\n",
       "0    Piper    4548    9096\n",
       "1    Grace   28150   56300\n",
       "2  Georgia    1103    2206\n",
       "3   Willow    6593   13186\n",
       "4     Finn   74576  149152\n",
       "5   Thomas   24433   48866"
      ]
     },
     "execution_count": 11,
     "metadata": {},
     "output_type": "execute_result"
    }
   ],
   "source": [
    "data = {\n",
    "    'name': ['Piper', 'Grace', 'Georgia', 'Willow', 'Finn', 'Thomas'],\n",
    "    'salary': [4548, 28150, 1103, 6593, 74576, 24433]\n",
    "}\n",
    "\n",
    "employees = pd.DataFrame(data)\n",
    "employees['bonus'] = 2*employees['salary']\n",
    "employees"
   ]
  },
  {
   "cell_type": "markdown",
   "metadata": {},
   "source": [
    "2882. Drop Duplicate Rows\n",
    "\n",
    "Delete the rows based on the duplicate emails keep the first occurence delete rest."
   ]
  },
  {
   "cell_type": "code",
   "execution_count": 12,
   "metadata": {},
   "outputs": [
    {
     "data": {
      "text/html": [
       "<div>\n",
       "<style scoped>\n",
       "    .dataframe tbody tr th:only-of-type {\n",
       "        vertical-align: middle;\n",
       "    }\n",
       "\n",
       "    .dataframe tbody tr th {\n",
       "        vertical-align: top;\n",
       "    }\n",
       "\n",
       "    .dataframe thead th {\n",
       "        text-align: right;\n",
       "    }\n",
       "</style>\n",
       "<table border=\"1\" class=\"dataframe\">\n",
       "  <thead>\n",
       "    <tr style=\"text-align: right;\">\n",
       "      <th></th>\n",
       "      <th>customer_id</th>\n",
       "      <th>name</th>\n",
       "      <th>email</th>\n",
       "    </tr>\n",
       "  </thead>\n",
       "  <tbody>\n",
       "    <tr>\n",
       "      <th>0</th>\n",
       "      <td>1</td>\n",
       "      <td>Ella</td>\n",
       "      <td>emily@example.com</td>\n",
       "    </tr>\n",
       "    <tr>\n",
       "      <th>1</th>\n",
       "      <td>2</td>\n",
       "      <td>David</td>\n",
       "      <td>michael@example.com</td>\n",
       "    </tr>\n",
       "    <tr>\n",
       "      <th>2</th>\n",
       "      <td>3</td>\n",
       "      <td>Zachary</td>\n",
       "      <td>sarah@example.com</td>\n",
       "    </tr>\n",
       "    <tr>\n",
       "      <th>3</th>\n",
       "      <td>4</td>\n",
       "      <td>Alice</td>\n",
       "      <td>john@example.com</td>\n",
       "    </tr>\n",
       "    <tr>\n",
       "      <th>5</th>\n",
       "      <td>6</td>\n",
       "      <td>Violet</td>\n",
       "      <td>alice@example.com</td>\n",
       "    </tr>\n",
       "  </tbody>\n",
       "</table>\n",
       "</div>"
      ],
      "text/plain": [
       "   customer_id     name                email\n",
       "0            1     Ella    emily@example.com\n",
       "1            2    David  michael@example.com\n",
       "2            3  Zachary    sarah@example.com\n",
       "3            4    Alice     john@example.com\n",
       "5            6   Violet    alice@example.com"
      ]
     },
     "execution_count": 12,
     "metadata": {},
     "output_type": "execute_result"
    }
   ],
   "source": [
    "data =pd.DataFrame({\n",
    "    'customer_id': [1, 2, 3, 4, 5, 6],\n",
    "    'name': ['Ella', 'David', 'Zachary', 'Alice', 'Finn', 'Violet'],\n",
    "    'email': [\n",
    "        'emily@example.com',\n",
    "        'michael@example.com',\n",
    "        'sarah@example.com',\n",
    "        'john@example.com',\n",
    "        'john@example.com',\n",
    "        'alice@example.com'\n",
    "    ]\n",
    "})\n",
    "\n",
    "duplicates = data[data.duplicated('email')]\n",
    "\n",
    "data.drop(duplicates.index)\n",
    "\n",
    "        \n",
    "\n",
    "\n",
    "\n"
   ]
  },
  {
   "cell_type": "markdown",
   "metadata": {},
   "source": []
  },
  {
   "cell_type": "code",
   "execution_count": 13,
   "metadata": {},
   "outputs": [
    {
     "name": "stdout",
     "output_type": "stream",
     "text": [
      "   A  A  A\n",
      "0  1  2  2\n",
      "1  3  4  3\n"
     ]
    }
   ],
   "source": [
    "df = pd.DataFrame([\n",
    "    [1, 2],\n",
    "    [3, 4]\n",
    "], columns=['A', 'A'])\n",
    "\n",
    "df.insert(2,\"A\",[2,3],allow_duplicates=True)\n",
    "\n",
    "print(df)\n"
   ]
  },
  {
   "cell_type": "markdown",
   "metadata": {},
   "source": [
    "iterating in dataframe over rows. "
   ]
  },
  {
   "cell_type": "code",
   "execution_count": 14,
   "metadata": {},
   "outputs": [
    {
     "name": "stdout",
     "output_type": "stream",
     "text": [
      "Index: 0, Name: Alice, Age: 25\n",
      "Index: 1, Name: Bob, Age: 30\n"
     ]
    }
   ],
   "source": [
    "import pandas as pd\n",
    "\n",
    "df = pd.DataFrame({'name': ['Alice', 'Bob'], 'age': [25, 30]})\n",
    "\n",
    "for index, row in df.iterrows():\n",
    "    print(f\"Index: {index}, Name: {row['name']}, Age: {row['age']}\")\n"
   ]
  },
  {
   "cell_type": "markdown",
   "metadata": {},
   "source": [
    "2883. Drop Missing Data.\n",
    "There are some rows having missing values in the name column.\n"
   ]
  },
  {
   "cell_type": "code",
   "execution_count": 15,
   "metadata": {},
   "outputs": [
    {
     "data": {
      "text/html": [
       "<div>\n",
       "<style scoped>\n",
       "    .dataframe tbody tr th:only-of-type {\n",
       "        vertical-align: middle;\n",
       "    }\n",
       "\n",
       "    .dataframe tbody tr th {\n",
       "        vertical-align: top;\n",
       "    }\n",
       "\n",
       "    .dataframe thead th {\n",
       "        text-align: right;\n",
       "    }\n",
       "</style>\n",
       "<table border=\"1\" class=\"dataframe\">\n",
       "  <thead>\n",
       "    <tr style=\"text-align: right;\">\n",
       "      <th></th>\n",
       "      <th>student_id</th>\n",
       "    </tr>\n",
       "  </thead>\n",
       "  <tbody>\n",
       "    <tr>\n",
       "      <th>0</th>\n",
       "      <td>32</td>\n",
       "    </tr>\n",
       "    <tr>\n",
       "      <th>1</th>\n",
       "      <td>217</td>\n",
       "    </tr>\n",
       "    <tr>\n",
       "      <th>2</th>\n",
       "      <td>779</td>\n",
       "    </tr>\n",
       "    <tr>\n",
       "      <th>3</th>\n",
       "      <td>849</td>\n",
       "    </tr>\n",
       "  </tbody>\n",
       "</table>\n",
       "</div>"
      ],
      "text/plain": [
       "   student_id\n",
       "0          32\n",
       "1         217\n",
       "2         779\n",
       "3         849"
      ]
     },
     "execution_count": 15,
     "metadata": {},
     "output_type": "execute_result"
    }
   ],
   "source": [
    "data = {\n",
    "    'student_id': [32, 217, 779, 849],\n",
    "    'name': ['Piper', None, 'Georgia', 'Willow'],\n",
    "    'age': [5, 19, 20, None]\n",
    "}\n",
    "\n",
    "df = pd.DataFrame(data)\n",
    "\n",
    "df.dropna() # this drops the row having any value as null or none we have to drop only that row where name is none or null\n",
    "\n",
    "df.dropna(subset=['name']) # this will only drop the row in which name is na or none \n",
    "\n",
    "df.dropna(axis='columns') \n"
   ]
  },
  {
   "cell_type": "markdown",
   "metadata": {},
   "source": [
    "2885. Rename Columns\n",
    "Write a solution to rename the columns as follows:\n",
    "\n",
    "id to student_id,\n",
    "first to first_name,\n",
    "last to last_name,\n",
    "age to age_in_years"
   ]
  },
  {
   "cell_type": "code",
   "execution_count": 16,
   "metadata": {},
   "outputs": [
    {
     "data": {
      "text/html": [
       "<div>\n",
       "<style scoped>\n",
       "    .dataframe tbody tr th:only-of-type {\n",
       "        vertical-align: middle;\n",
       "    }\n",
       "\n",
       "    .dataframe tbody tr th {\n",
       "        vertical-align: top;\n",
       "    }\n",
       "\n",
       "    .dataframe thead th {\n",
       "        text-align: right;\n",
       "    }\n",
       "</style>\n",
       "<table border=\"1\" class=\"dataframe\">\n",
       "  <thead>\n",
       "    <tr style=\"text-align: right;\">\n",
       "      <th></th>\n",
       "      <th>student_id</th>\n",
       "      <th>first_name</th>\n",
       "      <th>last_name</th>\n",
       "      <th>age_in_years</th>\n",
       "    </tr>\n",
       "  </thead>\n",
       "  <tbody>\n",
       "    <tr>\n",
       "      <th>0</th>\n",
       "      <td>1</td>\n",
       "      <td>Mason</td>\n",
       "      <td>King</td>\n",
       "      <td>6</td>\n",
       "    </tr>\n",
       "    <tr>\n",
       "      <th>1</th>\n",
       "      <td>2</td>\n",
       "      <td>Ava</td>\n",
       "      <td>Wright</td>\n",
       "      <td>7</td>\n",
       "    </tr>\n",
       "    <tr>\n",
       "      <th>2</th>\n",
       "      <td>3</td>\n",
       "      <td>Taylor</td>\n",
       "      <td>Hall</td>\n",
       "      <td>16</td>\n",
       "    </tr>\n",
       "    <tr>\n",
       "      <th>3</th>\n",
       "      <td>4</td>\n",
       "      <td>Georgia</td>\n",
       "      <td>Thompson</td>\n",
       "      <td>18</td>\n",
       "    </tr>\n",
       "    <tr>\n",
       "      <th>4</th>\n",
       "      <td>5</td>\n",
       "      <td>Thomas</td>\n",
       "      <td>Moore</td>\n",
       "      <td>10</td>\n",
       "    </tr>\n",
       "  </tbody>\n",
       "</table>\n",
       "</div>"
      ],
      "text/plain": [
       "   student_id first_name last_name  age_in_years\n",
       "0           1      Mason      King             6\n",
       "1           2        Ava    Wright             7\n",
       "2           3     Taylor      Hall            16\n",
       "3           4    Georgia  Thompson            18\n",
       "4           5     Thomas     Moore            10"
      ]
     },
     "execution_count": 16,
     "metadata": {},
     "output_type": "execute_result"
    }
   ],
   "source": [
    "data = {\n",
    "    'id': [1, 2, 3, 4, 5],\n",
    "    'first': ['Mason', 'Ava', 'Taylor', 'Georgia', 'Thomas'],\n",
    "    'last': ['King', 'Wright', 'Hall', 'Thompson', 'Moore'],\n",
    "    'age': [6, 7, 16, 18, 10]\n",
    "}\n",
    "\n",
    "df = pd.DataFrame(data)\n",
    "\n",
    "df.columns = ['student_id', 'first_name', 'last_name', 'age_in_years']\n",
    "df.columns\n",
    "df\n"
   ]
  },
  {
   "cell_type": "markdown",
   "metadata": {},
   "source": [
    "595. Big Countries."
   ]
  },
  {
   "cell_type": "code",
   "execution_count": 17,
   "metadata": {},
   "outputs": [
    {
     "data": {
      "text/html": [
       "<div>\n",
       "<style scoped>\n",
       "    .dataframe tbody tr th:only-of-type {\n",
       "        vertical-align: middle;\n",
       "    }\n",
       "\n",
       "    .dataframe tbody tr th {\n",
       "        vertical-align: top;\n",
       "    }\n",
       "\n",
       "    .dataframe thead th {\n",
       "        text-align: right;\n",
       "    }\n",
       "</style>\n",
       "<table border=\"1\" class=\"dataframe\">\n",
       "  <thead>\n",
       "    <tr style=\"text-align: right;\">\n",
       "      <th></th>\n",
       "      <th>name</th>\n",
       "      <th>area</th>\n",
       "      <th>population</th>\n",
       "    </tr>\n",
       "  </thead>\n",
       "  <tbody>\n",
       "    <tr>\n",
       "      <th>0</th>\n",
       "      <td>Afghanistan</td>\n",
       "      <td>652230</td>\n",
       "      <td>25500100</td>\n",
       "    </tr>\n",
       "    <tr>\n",
       "      <th>2</th>\n",
       "      <td>Algeria</td>\n",
       "      <td>2381741</td>\n",
       "      <td>37100000</td>\n",
       "    </tr>\n",
       "  </tbody>\n",
       "</table>\n",
       "</div>"
      ],
      "text/plain": [
       "          name     area  population\n",
       "0  Afghanistan   652230    25500100\n",
       "2      Algeria  2381741    37100000"
      ]
     },
     "execution_count": 17,
     "metadata": {},
     "output_type": "execute_result"
    }
   ],
   "source": [
    "data = {\n",
    "    'name': ['Afghanistan', 'Albania', 'Algeria', 'Andorra', 'Angola'],\n",
    "    'continent': ['Asia', 'Europe', 'Africa', 'Europe', 'Africa'],\n",
    "    'area': [652230, 28748, 2381741, 468, 1246700],\n",
    "    'population': [25500100, 2831741, 37100000, 78115, 20609294],\n",
    "    'gdp': [20343000000, 12960000000, 188681000000, 3712000000, 100990000000]\n",
    "}\n",
    "\n",
    "df = pd.DataFrame(data)\n",
    "a = df[df['population'] >= 25000000]\n",
    "b = df[df['area'] >= 3000000]\n",
    "\n",
    "c = a.combine_first(b)\n",
    "c = c.loc[:,['name','area','population']]\n",
    "c"
   ]
  },
  {
   "cell_type": "markdown",
   "metadata": {},
   "source": [
    "2886. Change Data Type"
   ]
  },
  {
   "cell_type": "code",
   "execution_count": 18,
   "metadata": {},
   "outputs": [
    {
     "data": {
      "text/plain": [
       "student_id     int64\n",
       "name          object\n",
       "age            int64\n",
       "grade          int64\n",
       "dtype: object"
      ]
     },
     "execution_count": 18,
     "metadata": {},
     "output_type": "execute_result"
    }
   ],
   "source": [
    "data = {\n",
    "    'student_id': [1, 2],\n",
    "    'name': ['Ava', 'Kate'],\n",
    "    'age': [6, 15],\n",
    "    'grade': [73.0, 87.0]\n",
    "}\n",
    "\n",
    "df = pd.DataFrame(data)\n",
    "\n",
    "df['grade'] = df['grade'].astype(int)\n",
    "df.dtypes\n",
    "\n",
    "\n",
    "\n",
    " "
   ]
  },
  {
   "cell_type": "markdown",
   "metadata": {},
   "source": [
    "2888: Reshape data concatenate. "
   ]
  },
  {
   "cell_type": "code",
   "execution_count": 19,
   "metadata": {},
   "outputs": [],
   "source": [
    "data = {\n",
    "    'student_id': [1, 2, 3, 4],\n",
    "    'name': ['Mason', 'Ava', 'Taylor', 'Georgia'],\n",
    "    'age': [8, 6, 15, 17]\n",
    "}\n",
    "\n",
    "df1 = pd.DataFrame(data)\n",
    "data = {\n",
    "    'student_id': [5, 6],\n",
    "    'name': ['Leo', 'Alex'],\n",
    "    'age': [7, 7]\n",
    "}\n",
    "\n",
    "df2 = pd.DataFrame(data)\n",
    "\n",
    "df_combined = pd.concat((df1,df2), ignore_index=True)\n"
   ]
  },
  {
   "cell_type": "markdown",
   "metadata": {},
   "source": [
    "# 2889 Reshape Data: Pivot"
   ]
  },
  {
   "cell_type": "code",
   "execution_count": 20,
   "metadata": {},
   "outputs": [
    {
     "data": {
      "text/html": [
       "<div>\n",
       "<style scoped>\n",
       "    .dataframe tbody tr th:only-of-type {\n",
       "        vertical-align: middle;\n",
       "    }\n",
       "\n",
       "    .dataframe tbody tr th {\n",
       "        vertical-align: top;\n",
       "    }\n",
       "\n",
       "    .dataframe thead th {\n",
       "        text-align: right;\n",
       "    }\n",
       "</style>\n",
       "<table border=\"1\" class=\"dataframe\">\n",
       "  <thead>\n",
       "    <tr style=\"text-align: right;\">\n",
       "      <th>city</th>\n",
       "      <th>ElPaso</th>\n",
       "      <th>Jacksonville</th>\n",
       "    </tr>\n",
       "    <tr>\n",
       "      <th>month</th>\n",
       "      <th></th>\n",
       "      <th></th>\n",
       "    </tr>\n",
       "  </thead>\n",
       "  <tbody>\n",
       "    <tr>\n",
       "      <th>April</th>\n",
       "      <td>2</td>\n",
       "      <td>5</td>\n",
       "    </tr>\n",
       "    <tr>\n",
       "      <th>February</th>\n",
       "      <td>6</td>\n",
       "      <td>23</td>\n",
       "    </tr>\n",
       "    <tr>\n",
       "      <th>January</th>\n",
       "      <td>20</td>\n",
       "      <td>13</td>\n",
       "    </tr>\n",
       "    <tr>\n",
       "      <th>March</th>\n",
       "      <td>26</td>\n",
       "      <td>38</td>\n",
       "    </tr>\n",
       "    <tr>\n",
       "      <th>May</th>\n",
       "      <td>43</td>\n",
       "      <td>34</td>\n",
       "    </tr>\n",
       "  </tbody>\n",
       "</table>\n",
       "</div>"
      ],
      "text/plain": [
       "city      ElPaso  Jacksonville\n",
       "month                         \n",
       "April          2             5\n",
       "February       6            23\n",
       "January       20            13\n",
       "March         26            38\n",
       "May           43            34"
      ]
     },
     "execution_count": 20,
     "metadata": {},
     "output_type": "execute_result"
    }
   ],
   "source": [
    "data = {\n",
    "    'city': ['Jacksonville', 'Jacksonville', 'Jacksonville', 'Jacksonville', 'Jacksonville',\n",
    "             'ElPaso', 'ElPaso', 'ElPaso', 'ElPaso', 'ElPaso'],\n",
    "    'month': ['January', 'February', 'March', 'April', 'May',\n",
    "              'January', 'February', 'March', 'April', 'May'],\n",
    "    'temperature': [13, 23, 38, 5, 34, 20, 6, 26, 2, 43]\n",
    "}\n",
    "\n",
    "df = pd.DataFrame(data)\n",
    "\n",
    "month_wise_temp = df.pivot(index=[\"month\"], columns=[\"city\"], values=\"temperature\")\n",
    "month_wise_temp\n",
    "\n"
   ]
  },
  {
   "cell_type": "markdown",
   "metadata": {},
   "source": [
    "2890. Reshape Data: Melt"
   ]
  },
  {
   "cell_type": "code",
   "execution_count": 21,
   "metadata": {},
   "outputs": [
    {
     "data": {
      "text/html": [
       "<div>\n",
       "<style scoped>\n",
       "    .dataframe tbody tr th:only-of-type {\n",
       "        vertical-align: middle;\n",
       "    }\n",
       "\n",
       "    .dataframe tbody tr th {\n",
       "        vertical-align: top;\n",
       "    }\n",
       "\n",
       "    .dataframe thead th {\n",
       "        text-align: right;\n",
       "    }\n",
       "</style>\n",
       "<table border=\"1\" class=\"dataframe\">\n",
       "  <thead>\n",
       "    <tr style=\"text-align: right;\">\n",
       "      <th></th>\n",
       "      <th>product</th>\n",
       "      <th>quarter</th>\n",
       "      <th>sales</th>\n",
       "    </tr>\n",
       "  </thead>\n",
       "  <tbody>\n",
       "    <tr>\n",
       "      <th>0</th>\n",
       "      <td>Umbrella</td>\n",
       "      <td>quarter_1</td>\n",
       "      <td>417</td>\n",
       "    </tr>\n",
       "    <tr>\n",
       "      <th>1</th>\n",
       "      <td>SleepingBag</td>\n",
       "      <td>quarter_1</td>\n",
       "      <td>800</td>\n",
       "    </tr>\n",
       "    <tr>\n",
       "      <th>2</th>\n",
       "      <td>Umbrella</td>\n",
       "      <td>quarter_2</td>\n",
       "      <td>224</td>\n",
       "    </tr>\n",
       "    <tr>\n",
       "      <th>3</th>\n",
       "      <td>SleepingBag</td>\n",
       "      <td>quarter_2</td>\n",
       "      <td>936</td>\n",
       "    </tr>\n",
       "    <tr>\n",
       "      <th>4</th>\n",
       "      <td>Umbrella</td>\n",
       "      <td>quarter_3</td>\n",
       "      <td>379</td>\n",
       "    </tr>\n",
       "    <tr>\n",
       "      <th>5</th>\n",
       "      <td>SleepingBag</td>\n",
       "      <td>quarter_3</td>\n",
       "      <td>93</td>\n",
       "    </tr>\n",
       "    <tr>\n",
       "      <th>6</th>\n",
       "      <td>Umbrella</td>\n",
       "      <td>quarter_4</td>\n",
       "      <td>611</td>\n",
       "    </tr>\n",
       "    <tr>\n",
       "      <th>7</th>\n",
       "      <td>SleepingBag</td>\n",
       "      <td>quarter_4</td>\n",
       "      <td>875</td>\n",
       "    </tr>\n",
       "  </tbody>\n",
       "</table>\n",
       "</div>"
      ],
      "text/plain": [
       "       product    quarter  sales\n",
       "0     Umbrella  quarter_1    417\n",
       "1  SleepingBag  quarter_1    800\n",
       "2     Umbrella  quarter_2    224\n",
       "3  SleepingBag  quarter_2    936\n",
       "4     Umbrella  quarter_3    379\n",
       "5  SleepingBag  quarter_3     93\n",
       "6     Umbrella  quarter_4    611\n",
       "7  SleepingBag  quarter_4    875"
      ]
     },
     "execution_count": 21,
     "metadata": {},
     "output_type": "execute_result"
    }
   ],
   "source": [
    "data = {\n",
    "    'product': ['Umbrella', 'SleepingBag'],\n",
    "    'quarter_1': [417, 800],\n",
    "    'quarter_2': [224, 936],\n",
    "    'quarter_3': [379, 93],\n",
    "    'quarter_4': [611, 875]\n",
    "}\n",
    "\n",
    "df = pd.DataFrame(data)\n",
    "\n",
    "pd.melt(df,id_vars='product', value_vars=['quarter_1','quarter_2', 'quarter_3', 'quarter_4'], value_name='sales', var_name='quarter')"
   ]
  },
  {
   "cell_type": "markdown",
   "metadata": {},
   "source": [
    "2887. Fill Missing Data\n"
   ]
  },
  {
   "cell_type": "code",
   "execution_count": 22,
   "metadata": {},
   "outputs": [],
   "source": [
    "# fill 0 in place of None in quantity column.\n",
    "data = {\n",
    "    'name': ['Wristwatch', 'WirelessEarbuds', 'GolfClubs', 'Printer'],\n",
    "    'quantity': [None, None, 779, 849],\n",
    "    'price': [135, 821, 9319, 3051]\n",
    "}\n",
    "\n",
    "df = pd.DataFrame(data)\n",
    "\n",
    "a = df['quantity'].isna()\n",
    "df.loc[a,'quantity'] = 0\n",
    "df['quantity'] = df['quantity'].astype(int)\n",
    "df\n",
    "\n",
    "df['quantity'].fillna(0,inplace=True) # using fillna function one liner.\n",
    "df\n",
    "\n",
    "df.fillna(value={'quantity': 0}, inplace = True) # solution 2.\n",
    "\n",
    "df.loc[df['quantity'].isnull(),'quantity'] = 0 # solution 3.\n",
    "df\n",
    " # ---- using loop.\n",
    "result = []\n",
    "for i in df.quantity:\n",
    "    if pd.isna(i):\n",
    "        result.append(0)\n",
    "        continue\n",
    "    result.append(i)\n",
    "df['quantity'] = result\n",
    "\n",
    "# ------\n",
    "\n",
    "\n",
    "\n",
    "\n",
    "\n",
    "\n",
    "    \n",
    "\n"
   ]
  },
  {
   "cell_type": "markdown",
   "metadata": {},
   "source": [
    "196 Delete Duplicate emails"
   ]
  },
  {
   "cell_type": "code",
   "execution_count": 23,
   "metadata": {},
   "outputs": [
    {
     "data": {
      "text/html": [
       "<div>\n",
       "<style scoped>\n",
       "    .dataframe tbody tr th:only-of-type {\n",
       "        vertical-align: middle;\n",
       "    }\n",
       "\n",
       "    .dataframe tbody tr th {\n",
       "        vertical-align: top;\n",
       "    }\n",
       "\n",
       "    .dataframe thead th {\n",
       "        text-align: right;\n",
       "    }\n",
       "</style>\n",
       "<table border=\"1\" class=\"dataframe\">\n",
       "  <thead>\n",
       "    <tr style=\"text-align: right;\">\n",
       "      <th></th>\n",
       "      <th>id</th>\n",
       "      <th>email</th>\n",
       "    </tr>\n",
       "  </thead>\n",
       "  <tbody>\n",
       "    <tr>\n",
       "      <th>1</th>\n",
       "      <td>2</td>\n",
       "      <td>bob@example.com</td>\n",
       "    </tr>\n",
       "    <tr>\n",
       "      <th>2</th>\n",
       "      <td>3</td>\n",
       "      <td>john@example.com</td>\n",
       "    </tr>\n",
       "  </tbody>\n",
       "</table>\n",
       "</div>"
      ],
      "text/plain": [
       "   id             email\n",
       "1   2   bob@example.com\n",
       "2   3  john@example.com"
      ]
     },
     "execution_count": 23,
     "metadata": {},
     "output_type": "execute_result"
    }
   ],
   "source": [
    "data = {\n",
    "    'id': [4, 2, 3],\n",
    "    'email': ['john@example.com', 'bob@example.com', 'john@example.com']\n",
    "}\n",
    "\n",
    "# keep the email with smallest id.\n",
    "df = pd.DataFrame(data)\n",
    "\n",
    "df.sort_values(by='id', ascending=True, inplace=True)\n",
    "df.drop_duplicates(subset='email', keep='first', inplace=True)\n",
    "df\n",
    "\n",
    "\n",
    "\n",
    "\n",
    "\n",
    "\n",
    "\n",
    "\n",
    "\n"
   ]
  },
  {
   "cell_type": "markdown",
   "metadata": {},
   "source": [
    "181. Employees Earning more than their managers."
   ]
  },
  {
   "cell_type": "code",
   "execution_count": null,
   "metadata": {},
   "outputs": [
    {
     "data": {
      "text/plain": [
       "<bound method NDFrame.last of 1    2.0\n",
       "Name: managerId, dtype: float64>"
      ]
     },
     "execution_count": 205,
     "metadata": {},
     "output_type": "execute_result"
    }
   ],
   "source": [
    "data = {\n",
    "    'id': [1, 3, 2],\n",
    "    'name': ['Mark', 'Jack', 'Alan'],\n",
    "    'salary': [40000, 30000, 20000],\n",
    "    'managerId': [3, 2, None]  # use None for null values\n",
    "}\n",
    "\n",
    "df = pd.DataFrame(data)\n",
    "\n",
    "n = df.last_valid_index()\n",
    "\n",
    "# df = df.sort_values(by='id')\n",
    "\n",
    "lst = df.id\n",
    "\n",
    "\n",
    "ans = []\n",
    "\n",
    "# if(pd.notna(n)):\n",
    "#     for i in lst:\n",
    "#         a = df.loc[df['id']==i]['managerId']\n",
    "        \n",
    "#         a = int(a[0])\n",
    "#         if pd.notna(a):\n",
    "#             m_id = df.loc[df['id']==i]['managerId']\n",
    "#             m_id = int(m_id[0])\n",
    "#             print(m_id)\n",
    "#             if df.loc[df['id']==m_id]['salary'] < df.loc[df['id']==i]['salary']:\n",
    "#                 ans.append(df.loc[df['id']==m_id]['name'])\n",
    "\n",
    "\n",
    "\n",
    "\n",
    "a = df.loc[df['id']==3]['managerId']\n",
    "    \n",
    "\n",
    "\n"
   ]
  },
  {
   "cell_type": "code",
   "execution_count": null,
   "metadata": {},
   "outputs": [],
   "source": []
  }
 ],
 "metadata": {
  "kernelspec": {
   "display_name": "base",
   "language": "python",
   "name": "python3"
  },
  "language_info": {
   "codemirror_mode": {
    "name": "ipython",
    "version": 3
   },
   "file_extension": ".py",
   "mimetype": "text/x-python",
   "name": "python",
   "nbconvert_exporter": "python",
   "pygments_lexer": "ipython3",
   "version": "3.11.5"
  }
 },
 "nbformat": 4,
 "nbformat_minor": 2
}
