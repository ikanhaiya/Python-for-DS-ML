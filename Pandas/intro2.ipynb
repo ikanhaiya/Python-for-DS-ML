{
 "cells": [
  {
   "cell_type": "markdown",
   "metadata": {},
   "source": [
    "<h4>Series</h4>"
   ]
  },
  {
   "cell_type": "code",
   "execution_count": 2,
   "metadata": {},
   "outputs": [],
   "source": [
    "import pandas as pd\n",
    "import numpy as np "
   ]
  },
  {
   "cell_type": "code",
   "execution_count": 3,
   "metadata": {},
   "outputs": [
    {
     "data": {
      "text/plain": [
       "0    python\n",
       "1      java\n",
       "2        js\n",
       "3       cpp\n",
       "4         2\n",
       "dtype: object"
      ]
     },
     "execution_count": 3,
     "metadata": {},
     "output_type": "execute_result"
    }
   ],
   "source": [
    "data = pd.Series(['python', 'java', 'js', 'cpp', 2])\n",
    "data"
   ]
  },
  {
   "cell_type": "markdown",
   "metadata": {},
   "source": [
    "<h4>1.1 Attributes</h4>"
   ]
  },
  {
   "cell_type": "code",
   "execution_count": 4,
   "metadata": {},
   "outputs": [
    {
     "data": {
      "text/plain": [
       "RangeIndex(start=0, stop=5, step=1)"
      ]
     },
     "execution_count": 4,
     "metadata": {},
     "output_type": "execute_result"
    }
   ],
   "source": [
    "data.index"
   ]
  },
  {
   "cell_type": "code",
   "execution_count": 5,
   "metadata": {},
   "outputs": [
    {
     "data": {
      "text/plain": [
       "dtype('O')"
      ]
     },
     "execution_count": 5,
     "metadata": {},
     "output_type": "execute_result"
    }
   ],
   "source": [
    "data.dtype"
   ]
  },
  {
   "cell_type": "code",
   "execution_count": 6,
   "metadata": {},
   "outputs": [
    {
     "data": {
      "text/plain": [
       "(5,)"
      ]
     },
     "execution_count": 6,
     "metadata": {},
     "output_type": "execute_result"
    }
   ],
   "source": [
    "data.shape # gives shape."
   ]
  },
  {
   "cell_type": "code",
   "execution_count": 7,
   "metadata": {},
   "outputs": [
    {
     "data": {
      "text/plain": [
       "5"
      ]
     },
     "execution_count": 7,
     "metadata": {},
     "output_type": "execute_result"
    }
   ],
   "source": [
    "data.size # gives size"
   ]
  },
  {
   "cell_type": "code",
   "execution_count": 8,
   "metadata": {},
   "outputs": [
    {
     "data": {
      "text/plain": [
       "False"
      ]
     },
     "execution_count": 8,
     "metadata": {},
     "output_type": "execute_result"
    }
   ],
   "source": [
    "data.empty # tells if empty"
   ]
  },
  {
   "cell_type": "code",
   "execution_count": 9,
   "metadata": {},
   "outputs": [
    {
     "data": {
      "text/plain": [
       "1"
      ]
     },
     "execution_count": 9,
     "metadata": {},
     "output_type": "execute_result"
    }
   ],
   "source": [
    "data.ndim"
   ]
  },
  {
   "cell_type": "code",
   "execution_count": 10,
   "metadata": {},
   "outputs": [
    {
     "data": {
      "text/plain": [
       "40"
      ]
     },
     "execution_count": 10,
     "metadata": {},
     "output_type": "execute_result"
    }
   ],
   "source": [
    "data.nbytes"
   ]
  },
  {
   "cell_type": "markdown",
   "metadata": {},
   "source": [
    "<h4>Indexing</h4>"
   ]
  },
  {
   "cell_type": "code",
   "execution_count": 11,
   "metadata": {},
   "outputs": [
    {
     "data": {
      "text/plain": [
       "'python'"
      ]
     },
     "execution_count": 11,
     "metadata": {},
     "output_type": "execute_result"
    }
   ],
   "source": [
    "data.loc[0] # can use indexing as well as column names"
   ]
  },
  {
   "cell_type": "code",
   "execution_count": 12,
   "metadata": {},
   "outputs": [
    {
     "data": {
      "text/plain": [
       "'python'"
      ]
     },
     "execution_count": 12,
     "metadata": {},
     "output_type": "execute_result"
    }
   ],
   "source": [
    "data.iloc[0] # can use only index."
   ]
  },
  {
   "cell_type": "code",
   "execution_count": 13,
   "metadata": {},
   "outputs": [
    {
     "data": {
      "text/plain": [
       "'python'"
      ]
     },
     "execution_count": 13,
     "metadata": {},
     "output_type": "execute_result"
    }
   ],
   "source": [
    "data[0]"
   ]
  },
  {
   "cell_type": "markdown",
   "metadata": {},
   "source": [
    "<h4>1.3 Windows Function</h4>"
   ]
  },
  {
   "cell_type": "code",
   "execution_count": 14,
   "metadata": {},
   "outputs": [
    {
     "data": {
      "text/plain": [
       "0     2\n",
       "1     3\n",
       "2     4\n",
       "3     3\n",
       "4     6\n",
       "5     7\n",
       "6     8\n",
       "7     9\n",
       "8    23\n",
       "dtype: int64"
      ]
     },
     "execution_count": 14,
     "metadata": {},
     "output_type": "execute_result"
    }
   ],
   "source": [
    "data = pd.Series([2,3,4,3,6,7,8,9,23])\n",
    "data"
   ]
  },
  {
   "cell_type": "code",
   "execution_count": 15,
   "metadata": {},
   "outputs": [
    {
     "data": {
      "text/plain": [
       "0     NaN\n",
       "1     5.0\n",
       "2     7.0\n",
       "3     7.0\n",
       "4     9.0\n",
       "5    13.0\n",
       "6    15.0\n",
       "7    17.0\n",
       "8    32.0\n",
       "dtype: float64"
      ]
     },
     "execution_count": 15,
     "metadata": {},
     "output_type": "execute_result"
    }
   ],
   "source": [
    "data.rolling(window=2).sum()\n",
    "# takes the 2 values one of current index and 1 from prev index and stores sum at curr index\n",
    "# thats why at index 0 its NaN becoz there is no prev index for 0.\n",
    "\n",
    "# data[curr] = data[curr-1] + data[curr]"
   ]
  },
  {
   "cell_type": "code",
   "execution_count": 16,
   "metadata": {},
   "outputs": [
    {
     "data": {
      "text/plain": [
       "0     NaN\n",
       "1     5.0\n",
       "2     9.0\n",
       "3    12.0\n",
       "4    18.0\n",
       "5    25.0\n",
       "6    33.0\n",
       "7    42.0\n",
       "8    65.0\n",
       "dtype: float64"
      ]
     },
     "execution_count": 16,
     "metadata": {},
     "output_type": "execute_result"
    }
   ],
   "source": [
    "data.expanding(min_periods=2).sum()\n",
    "# takes sum of 2 first values and add it to next index and store there\n",
    "# cumulative values with 2 window."
   ]
  },
  {
   "cell_type": "code",
   "execution_count": 17,
   "metadata": {},
   "outputs": [
    {
     "data": {
      "text/plain": [
       "a    200\n",
       "b    400\n",
       "c     42\n",
       "d      4\n",
       "dtype: int64"
      ]
     },
     "execution_count": 17,
     "metadata": {},
     "output_type": "execute_result"
    }
   ],
   "source": [
    "data2 = pd.Series([200,400, 42,4],index=['a','b','c','d'])\n",
    "data2"
   ]
  },
  {
   "cell_type": "markdown",
   "metadata": {},
   "source": [
    "<h4>2. DataFrame </h4>"
   ]
  },
  {
   "cell_type": "markdown",
   "metadata": {},
   "source": [
    "<h5>2.1 Indexing</h5>"
   ]
  },
  {
   "cell_type": "code",
   "execution_count": 18,
   "metadata": {},
   "outputs": [],
   "source": [
    "employees = [\n",
    "    {\"employee_id\": 3, \"name\": \"Bob\", \"department\": \"Operations\", \"salary\": 48675},\n",
    "    {\"employee_id\": 90, \"name\": \"Alice\", \"department\": \"Sales\", \"salary\": 11096},\n",
    "    {\"employee_id\": 9, \"name\": \"Tatiana\", \"department\": \"Engineering\", \"salary\": 33805},\n",
    "    {\"employee_id\": 60, \"name\": \"Annabelle\", \"department\": \"InformationTechnology\", \"salary\": 37678},\n",
    "    {\"employee_id\": 49, \"name\": \"Jonathan\", \"department\": \"HumanResources\", \"salary\": 23793},\n",
    "    {\"employee_id\": 43, \"name\": \"Khaled\", \"department\": \"Administration\", \"salary\": 40454}\n",
    "]\n",
    "\n",
    "emp = pd.DataFrame(employees)\n"
   ]
  },
  {
   "cell_type": "code",
   "execution_count": 19,
   "metadata": {},
   "outputs": [
    {
     "data": {
      "text/html": [
       "<div>\n",
       "<style scoped>\n",
       "    .dataframe tbody tr th:only-of-type {\n",
       "        vertical-align: middle;\n",
       "    }\n",
       "\n",
       "    .dataframe tbody tr th {\n",
       "        vertical-align: top;\n",
       "    }\n",
       "\n",
       "    .dataframe thead th {\n",
       "        text-align: right;\n",
       "    }\n",
       "</style>\n",
       "<table border=\"1\" class=\"dataframe\">\n",
       "  <thead>\n",
       "    <tr style=\"text-align: right;\">\n",
       "      <th></th>\n",
       "      <th>employee_id</th>\n",
       "      <th>name</th>\n",
       "      <th>department</th>\n",
       "      <th>salary</th>\n",
       "    </tr>\n",
       "  </thead>\n",
       "  <tbody>\n",
       "    <tr>\n",
       "      <th>0</th>\n",
       "      <td>3</td>\n",
       "      <td>Bob</td>\n",
       "      <td>Operations</td>\n",
       "      <td>48675</td>\n",
       "    </tr>\n",
       "    <tr>\n",
       "      <th>1</th>\n",
       "      <td>90</td>\n",
       "      <td>Alice</td>\n",
       "      <td>Sales</td>\n",
       "      <td>11096</td>\n",
       "    </tr>\n",
       "    <tr>\n",
       "      <th>2</th>\n",
       "      <td>9</td>\n",
       "      <td>Tatiana</td>\n",
       "      <td>Engineering</td>\n",
       "      <td>33805</td>\n",
       "    </tr>\n",
       "    <tr>\n",
       "      <th>3</th>\n",
       "      <td>60</td>\n",
       "      <td>Annabelle</td>\n",
       "      <td>InformationTechnology</td>\n",
       "      <td>37678</td>\n",
       "    </tr>\n",
       "    <tr>\n",
       "      <th>4</th>\n",
       "      <td>49</td>\n",
       "      <td>Jonathan</td>\n",
       "      <td>HumanResources</td>\n",
       "      <td>23793</td>\n",
       "    </tr>\n",
       "    <tr>\n",
       "      <th>5</th>\n",
       "      <td>43</td>\n",
       "      <td>Khaled</td>\n",
       "      <td>Administration</td>\n",
       "      <td>40454</td>\n",
       "    </tr>\n",
       "  </tbody>\n",
       "</table>\n",
       "</div>"
      ],
      "text/plain": [
       "   employee_id       name             department  salary\n",
       "0            3        Bob             Operations   48675\n",
       "1           90      Alice                  Sales   11096\n",
       "2            9    Tatiana            Engineering   33805\n",
       "3           60  Annabelle  InformationTechnology   37678\n",
       "4           49   Jonathan         HumanResources   23793\n",
       "5           43     Khaled         Administration   40454"
      ]
     },
     "execution_count": 19,
     "metadata": {},
     "output_type": "execute_result"
    }
   ],
   "source": [
    "emp"
   ]
  },
  {
   "cell_type": "code",
   "execution_count": 20,
   "metadata": {},
   "outputs": [
    {
     "data": {
      "text/plain": [
       "Index(['employee_id', 'name', 'department', 'salary'], dtype='object')"
      ]
     },
     "execution_count": 20,
     "metadata": {},
     "output_type": "execute_result"
    }
   ],
   "source": [
    "emp.index\n",
    "emp.columns"
   ]
  },
  {
   "cell_type": "markdown",
   "metadata": {},
   "source": [
    "<h4>2.4 Plotting</h4>\n"
   ]
  },
  {
   "cell_type": "code",
   "execution_count": 21,
   "metadata": {},
   "outputs": [
    {
     "data": {
      "text/plain": [
       "<Axes: xlabel='department'>"
      ]
     },
     "execution_count": 21,
     "metadata": {},
     "output_type": "execute_result"
    },
    {
     "data": {
      "image/png": "[encoded data removed]",
      "text/plain": [
       "<Figure size 640x480 with 1 Axes>"
      ]
     },
     "metadata": {},
     "output_type": "display_data"
    }
   ],
   "source": [
    "emp.plot('department', 'salary')"
   ]
  },
  {
   "cell_type": "code",
   "execution_count": 22,
   "metadata": {},
   "outputs": [
    {
     "data": {
      "text/plain": [
       "<Axes: xlabel='department'>"
      ]
     },
     "execution_count": 22,
     "metadata": {},
     "output_type": "execute_result"
    },
    {
     "data": {
      "image/png": "[encoded data removed]",
      "text/plain": [
       "<Figure size 640x480 with 1 Axes>"
      ]
     },
     "metadata": {},
     "output_type": "display_data"
    }
   ],
   "source": [
    "emp.plot(x= 'department', y = 'salary', kind='bar')"
   ]
  },
  {
   "cell_type": "code",
   "execution_count": 23,
   "metadata": {},
   "outputs": [
    {
     "data": {
      "text/plain": [
       "<Axes: xlabel='department', ylabel='salary'>"
      ]
     },
     "execution_count": 23,
     "metadata": {},
     "output_type": "execute_result"
    },
    {
     "data": {
      "image/png": "[encoded data removed]",
      "text/plain": [
       "<Figure size 640x480 with 1 Axes>"
      ]
     },
     "metadata": {},
     "output_type": "display_data"
    }
   ],
   "source": [
    "emp.plot(x= 'department', y = 'salary', kind='scatter')"
   ]
  },
  {
   "cell_type": "markdown",
   "metadata": {},
   "source": [
    "<h5>2.5 Time Series</h5>"
   ]
  },
  {
   "cell_type": "code",
   "execution_count": 24,
   "metadata": {},
   "outputs": [],
   "source": [
    "dates= pd.date_range('20140401', periods=5)\n",
    "df = pd.DataFrame({'Dates':dates})"
   ]
  },
  {
   "cell_type": "code",
   "execution_count": 25,
   "metadata": {},
   "outputs": [
    {
     "data": {
      "text/html": [
       "<div>\n",
       "<style scoped>\n",
       "    .dataframe tbody tr th:only-of-type {\n",
       "        vertical-align: middle;\n",
       "    }\n",
       "\n",
       "    .dataframe tbody tr th {\n",
       "        vertical-align: top;\n",
       "    }\n",
       "\n",
       "    .dataframe thead th {\n",
       "        text-align: right;\n",
       "    }\n",
       "</style>\n",
       "<table border=\"1\" class=\"dataframe\">\n",
       "  <thead>\n",
       "    <tr style=\"text-align: right;\">\n",
       "      <th></th>\n",
       "      <th>Dates</th>\n",
       "    </tr>\n",
       "  </thead>\n",
       "  <tbody>\n",
       "    <tr>\n",
       "      <th>0</th>\n",
       "      <td>2014-04-01</td>\n",
       "    </tr>\n",
       "    <tr>\n",
       "      <th>1</th>\n",
       "      <td>2014-04-02</td>\n",
       "    </tr>\n",
       "    <tr>\n",
       "      <th>2</th>\n",
       "      <td>2014-04-03</td>\n",
       "    </tr>\n",
       "    <tr>\n",
       "      <th>3</th>\n",
       "      <td>2014-04-04</td>\n",
       "    </tr>\n",
       "    <tr>\n",
       "      <th>4</th>\n",
       "      <td>2014-04-05</td>\n",
       "    </tr>\n",
       "  </tbody>\n",
       "</table>\n",
       "</div>"
      ],
      "text/plain": [
       "       Dates\n",
       "0 2014-04-01\n",
       "1 2014-04-02\n",
       "2 2014-04-03\n",
       "3 2014-04-04\n",
       "4 2014-04-05"
      ]
     },
     "execution_count": 25,
     "metadata": {},
     "output_type": "execute_result"
    }
   ],
   "source": [
    "df"
   ]
  },
  {
   "cell_type": "code",
   "execution_count": 26,
   "metadata": {},
   "outputs": [
    {
     "data": {
      "text/html": [
       "<div>\n",
       "<style scoped>\n",
       "    .dataframe tbody tr th:only-of-type {\n",
       "        vertical-align: middle;\n",
       "    }\n",
       "\n",
       "    .dataframe tbody tr th {\n",
       "        vertical-align: top;\n",
       "    }\n",
       "\n",
       "    .dataframe thead th {\n",
       "        text-align: right;\n",
       "    }\n",
       "</style>\n",
       "<table border=\"1\" class=\"dataframe\">\n",
       "  <thead>\n",
       "    <tr style=\"text-align: right;\">\n",
       "      <th></th>\n",
       "      <th>Dates</th>\n",
       "      <th>year</th>\n",
       "    </tr>\n",
       "  </thead>\n",
       "  <tbody>\n",
       "    <tr>\n",
       "      <th>0</th>\n",
       "      <td>2014-04-01</td>\n",
       "      <td>2014</td>\n",
       "    </tr>\n",
       "    <tr>\n",
       "      <th>1</th>\n",
       "      <td>2014-04-02</td>\n",
       "      <td>2014</td>\n",
       "    </tr>\n",
       "    <tr>\n",
       "      <th>2</th>\n",
       "      <td>2014-04-03</td>\n",
       "      <td>2014</td>\n",
       "    </tr>\n",
       "    <tr>\n",
       "      <th>3</th>\n",
       "      <td>2014-04-04</td>\n",
       "      <td>2014</td>\n",
       "    </tr>\n",
       "    <tr>\n",
       "      <th>4</th>\n",
       "      <td>2014-04-05</td>\n",
       "      <td>2014</td>\n",
       "    </tr>\n",
       "  </tbody>\n",
       "</table>\n",
       "</div>"
      ],
      "text/plain": [
       "       Dates  year\n",
       "0 2014-04-01  2014\n",
       "1 2014-04-02  2014\n",
       "2 2014-04-03  2014\n",
       "3 2014-04-04  2014\n",
       "4 2014-04-05  2014"
      ]
     },
     "execution_count": 26,
     "metadata": {},
     "output_type": "execute_result"
    }
   ],
   "source": [
    "df['year'] = df['Dates'].dt.year\n",
    "df"
   ]
  },
  {
   "cell_type": "markdown",
   "metadata": {},
   "source": [
    "<h5>4. Reshaping</h5>\n",
    "4.1 Melt -> Used to convert the wide format to long format for redability"
   ]
  },
  {
   "cell_type": "code",
   "execution_count": 27,
   "metadata": {},
   "outputs": [
    {
     "data": {
      "text/html": [
       "<div>\n",
       "<style scoped>\n",
       "    .dataframe tbody tr th:only-of-type {\n",
       "        vertical-align: middle;\n",
       "    }\n",
       "\n",
       "    .dataframe tbody tr th {\n",
       "        vertical-align: top;\n",
       "    }\n",
       "\n",
       "    .dataframe thead th {\n",
       "        text-align: right;\n",
       "    }\n",
       "</style>\n",
       "<table border=\"1\" class=\"dataframe\">\n",
       "  <thead>\n",
       "    <tr style=\"text-align: right;\">\n",
       "      <th></th>\n",
       "      <th>employee_id</th>\n",
       "      <th>name</th>\n",
       "      <th>department</th>\n",
       "      <th>salary</th>\n",
       "    </tr>\n",
       "  </thead>\n",
       "  <tbody>\n",
       "    <tr>\n",
       "      <th>0</th>\n",
       "      <td>3</td>\n",
       "      <td>Bob</td>\n",
       "      <td>Operations</td>\n",
       "      <td>48675</td>\n",
       "    </tr>\n",
       "    <tr>\n",
       "      <th>1</th>\n",
       "      <td>90</td>\n",
       "      <td>Alice</td>\n",
       "      <td>Sales</td>\n",
       "      <td>11096</td>\n",
       "    </tr>\n",
       "    <tr>\n",
       "      <th>2</th>\n",
       "      <td>9</td>\n",
       "      <td>Tatiana</td>\n",
       "      <td>Engineering</td>\n",
       "      <td>33805</td>\n",
       "    </tr>\n",
       "    <tr>\n",
       "      <th>3</th>\n",
       "      <td>60</td>\n",
       "      <td>Annabelle</td>\n",
       "      <td>InformationTechnology</td>\n",
       "      <td>37678</td>\n",
       "    </tr>\n",
       "    <tr>\n",
       "      <th>4</th>\n",
       "      <td>49</td>\n",
       "      <td>Jonathan</td>\n",
       "      <td>HumanResources</td>\n",
       "      <td>23793</td>\n",
       "    </tr>\n",
       "    <tr>\n",
       "      <th>5</th>\n",
       "      <td>43</td>\n",
       "      <td>Khaled</td>\n",
       "      <td>Administration</td>\n",
       "      <td>40454</td>\n",
       "    </tr>\n",
       "  </tbody>\n",
       "</table>\n",
       "</div>"
      ],
      "text/plain": [
       "   employee_id       name             department  salary\n",
       "0            3        Bob             Operations   48675\n",
       "1           90      Alice                  Sales   11096\n",
       "2            9    Tatiana            Engineering   33805\n",
       "3           60  Annabelle  InformationTechnology   37678\n",
       "4           49   Jonathan         HumanResources   23793\n",
       "5           43     Khaled         Administration   40454"
      ]
     },
     "execution_count": 27,
     "metadata": {},
     "output_type": "execute_result"
    }
   ],
   "source": [
    "emp"
   ]
  },
  {
   "cell_type": "code",
   "execution_count": 28,
   "metadata": {},
   "outputs": [
    {
     "data": {
      "text/html": [
       "<div>\n",
       "<style scoped>\n",
       "    .dataframe tbody tr th:only-of-type {\n",
       "        vertical-align: middle;\n",
       "    }\n",
       "\n",
       "    .dataframe tbody tr th {\n",
       "        vertical-align: top;\n",
       "    }\n",
       "\n",
       "    .dataframe thead th {\n",
       "        text-align: right;\n",
       "    }\n",
       "</style>\n",
       "<table border=\"1\" class=\"dataframe\">\n",
       "  <thead>\n",
       "    <tr style=\"text-align: right;\">\n",
       "      <th></th>\n",
       "      <th>variable</th>\n",
       "      <th>value</th>\n",
       "    </tr>\n",
       "  </thead>\n",
       "  <tbody>\n",
       "    <tr>\n",
       "      <th>0</th>\n",
       "      <td>employee_id</td>\n",
       "      <td>3</td>\n",
       "    </tr>\n",
       "    <tr>\n",
       "      <th>1</th>\n",
       "      <td>employee_id</td>\n",
       "      <td>90</td>\n",
       "    </tr>\n",
       "    <tr>\n",
       "      <th>2</th>\n",
       "      <td>employee_id</td>\n",
       "      <td>9</td>\n",
       "    </tr>\n",
       "    <tr>\n",
       "      <th>3</th>\n",
       "      <td>employee_id</td>\n",
       "      <td>60</td>\n",
       "    </tr>\n",
       "    <tr>\n",
       "      <th>4</th>\n",
       "      <td>employee_id</td>\n",
       "      <td>49</td>\n",
       "    </tr>\n",
       "    <tr>\n",
       "      <th>5</th>\n",
       "      <td>employee_id</td>\n",
       "      <td>43</td>\n",
       "    </tr>\n",
       "    <tr>\n",
       "      <th>6</th>\n",
       "      <td>name</td>\n",
       "      <td>Bob</td>\n",
       "    </tr>\n",
       "    <tr>\n",
       "      <th>7</th>\n",
       "      <td>name</td>\n",
       "      <td>Alice</td>\n",
       "    </tr>\n",
       "    <tr>\n",
       "      <th>8</th>\n",
       "      <td>name</td>\n",
       "      <td>Tatiana</td>\n",
       "    </tr>\n",
       "    <tr>\n",
       "      <th>9</th>\n",
       "      <td>name</td>\n",
       "      <td>Annabelle</td>\n",
       "    </tr>\n",
       "    <tr>\n",
       "      <th>10</th>\n",
       "      <td>name</td>\n",
       "      <td>Jonathan</td>\n",
       "    </tr>\n",
       "    <tr>\n",
       "      <th>11</th>\n",
       "      <td>name</td>\n",
       "      <td>Khaled</td>\n",
       "    </tr>\n",
       "    <tr>\n",
       "      <th>12</th>\n",
       "      <td>department</td>\n",
       "      <td>Operations</td>\n",
       "    </tr>\n",
       "    <tr>\n",
       "      <th>13</th>\n",
       "      <td>department</td>\n",
       "      <td>Sales</td>\n",
       "    </tr>\n",
       "    <tr>\n",
       "      <th>14</th>\n",
       "      <td>department</td>\n",
       "      <td>Engineering</td>\n",
       "    </tr>\n",
       "    <tr>\n",
       "      <th>15</th>\n",
       "      <td>department</td>\n",
       "      <td>InformationTechnology</td>\n",
       "    </tr>\n",
       "    <tr>\n",
       "      <th>16</th>\n",
       "      <td>department</td>\n",
       "      <td>HumanResources</td>\n",
       "    </tr>\n",
       "    <tr>\n",
       "      <th>17</th>\n",
       "      <td>department</td>\n",
       "      <td>Administration</td>\n",
       "    </tr>\n",
       "    <tr>\n",
       "      <th>18</th>\n",
       "      <td>salary</td>\n",
       "      <td>48675</td>\n",
       "    </tr>\n",
       "    <tr>\n",
       "      <th>19</th>\n",
       "      <td>salary</td>\n",
       "      <td>11096</td>\n",
       "    </tr>\n",
       "    <tr>\n",
       "      <th>20</th>\n",
       "      <td>salary</td>\n",
       "      <td>33805</td>\n",
       "    </tr>\n",
       "    <tr>\n",
       "      <th>21</th>\n",
       "      <td>salary</td>\n",
       "      <td>37678</td>\n",
       "    </tr>\n",
       "    <tr>\n",
       "      <th>22</th>\n",
       "      <td>salary</td>\n",
       "      <td>23793</td>\n",
       "    </tr>\n",
       "    <tr>\n",
       "      <th>23</th>\n",
       "      <td>salary</td>\n",
       "      <td>40454</td>\n",
       "    </tr>\n",
       "  </tbody>\n",
       "</table>\n",
       "</div>"
      ],
      "text/plain": [
       "       variable                  value\n",
       "0   employee_id                      3\n",
       "1   employee_id                     90\n",
       "2   employee_id                      9\n",
       "3   employee_id                     60\n",
       "4   employee_id                     49\n",
       "5   employee_id                     43\n",
       "6          name                    Bob\n",
       "7          name                  Alice\n",
       "8          name                Tatiana\n",
       "9          name              Annabelle\n",
       "10         name               Jonathan\n",
       "11         name                 Khaled\n",
       "12   department             Operations\n",
       "13   department                  Sales\n",
       "14   department            Engineering\n",
       "15   department  InformationTechnology\n",
       "16   department         HumanResources\n",
       "17   department         Administration\n",
       "18       salary                  48675\n",
       "19       salary                  11096\n",
       "20       salary                  33805\n",
       "21       salary                  37678\n",
       "22       salary                  23793\n",
       "23       salary                  40454"
      ]
     },
     "execution_count": 28,
     "metadata": {},
     "output_type": "execute_result"
    }
   ],
   "source": [
    "pd.melt(emp)"
   ]
  },
  {
   "cell_type": "code",
   "execution_count": 29,
   "metadata": {},
   "outputs": [
    {
     "data": {
      "text/html": [
       "<div>\n",
       "<style scoped>\n",
       "    .dataframe tbody tr th:only-of-type {\n",
       "        vertical-align: middle;\n",
       "    }\n",
       "\n",
       "    .dataframe tbody tr th {\n",
       "        vertical-align: top;\n",
       "    }\n",
       "\n",
       "    .dataframe thead th {\n",
       "        text-align: right;\n",
       "    }\n",
       "</style>\n",
       "<table border=\"1\" class=\"dataframe\">\n",
       "  <thead>\n",
       "    <tr style=\"text-align: right;\">\n",
       "      <th></th>\n",
       "      <th>employee_id</th>\n",
       "      <th>variable</th>\n",
       "      <th>value</th>\n",
       "    </tr>\n",
       "  </thead>\n",
       "  <tbody>\n",
       "    <tr>\n",
       "      <th>0</th>\n",
       "      <td>3</td>\n",
       "      <td>department</td>\n",
       "      <td>Operations</td>\n",
       "    </tr>\n",
       "    <tr>\n",
       "      <th>1</th>\n",
       "      <td>90</td>\n",
       "      <td>department</td>\n",
       "      <td>Sales</td>\n",
       "    </tr>\n",
       "    <tr>\n",
       "      <th>2</th>\n",
       "      <td>9</td>\n",
       "      <td>department</td>\n",
       "      <td>Engineering</td>\n",
       "    </tr>\n",
       "    <tr>\n",
       "      <th>3</th>\n",
       "      <td>60</td>\n",
       "      <td>department</td>\n",
       "      <td>InformationTechnology</td>\n",
       "    </tr>\n",
       "    <tr>\n",
       "      <th>4</th>\n",
       "      <td>49</td>\n",
       "      <td>department</td>\n",
       "      <td>HumanResources</td>\n",
       "    </tr>\n",
       "    <tr>\n",
       "      <th>5</th>\n",
       "      <td>43</td>\n",
       "      <td>department</td>\n",
       "      <td>Administration</td>\n",
       "    </tr>\n",
       "  </tbody>\n",
       "</table>\n",
       "</div>"
      ],
      "text/plain": [
       "   employee_id    variable                  value\n",
       "0            3  department             Operations\n",
       "1           90  department                  Sales\n",
       "2            9  department            Engineering\n",
       "3           60  department  InformationTechnology\n",
       "4           49  department         HumanResources\n",
       "5           43  department         Administration"
      ]
     },
     "execution_count": 29,
     "metadata": {},
     "output_type": "execute_result"
    }
   ],
   "source": [
    "pd.melt(emp,id_vars='employee_id', value_vars=['department'])"
   ]
  },
  {
   "cell_type": "markdown",
   "metadata": {},
   "source": [
    "4.2 Pivot > The pivot() function is used to reshaped a given dataframe organised by a index / column values.\n",
    "\n",
    "This function does not support data aggregation, multiple values will result in a MultiIndex in the columns. "
   ]
  },
  {
   "cell_type": "code",
   "execution_count": 30,
   "metadata": {},
   "outputs": [],
   "source": [
    "emp['bonus'] = 1.5*emp['salary']"
   ]
  },
  {
   "cell_type": "code",
   "execution_count": 31,
   "metadata": {},
   "outputs": [
    {
     "data": {
      "text/html": [
       "<div>\n",
       "<style scoped>\n",
       "    .dataframe tbody tr th:only-of-type {\n",
       "        vertical-align: middle;\n",
       "    }\n",
       "\n",
       "    .dataframe tbody tr th {\n",
       "        vertical-align: top;\n",
       "    }\n",
       "\n",
       "    .dataframe thead tr th {\n",
       "        text-align: left;\n",
       "    }\n",
       "\n",
       "    .dataframe thead tr:last-of-type th {\n",
       "        text-align: right;\n",
       "    }\n",
       "</style>\n",
       "<table border=\"1\" class=\"dataframe\">\n",
       "  <thead>\n",
       "    <tr>\n",
       "      <th></th>\n",
       "      <th></th>\n",
       "      <th colspan=\"6\" halign=\"left\">salary</th>\n",
       "    </tr>\n",
       "    <tr>\n",
       "      <th></th>\n",
       "      <th>department</th>\n",
       "      <th>Administration</th>\n",
       "      <th>Engineering</th>\n",
       "      <th>HumanResources</th>\n",
       "      <th>InformationTechnology</th>\n",
       "      <th>Operations</th>\n",
       "      <th>Sales</th>\n",
       "    </tr>\n",
       "    <tr>\n",
       "      <th>name</th>\n",
       "      <th>employee_id</th>\n",
       "      <th></th>\n",
       "      <th></th>\n",
       "      <th></th>\n",
       "      <th></th>\n",
       "      <th></th>\n",
       "      <th></th>\n",
       "    </tr>\n",
       "  </thead>\n",
       "  <tbody>\n",
       "    <tr>\n",
       "      <th>Alice</th>\n",
       "      <th>90</th>\n",
       "      <td>NaN</td>\n",
       "      <td>NaN</td>\n",
       "      <td>NaN</td>\n",
       "      <td>NaN</td>\n",
       "      <td>NaN</td>\n",
       "      <td>11096.0</td>\n",
       "    </tr>\n",
       "    <tr>\n",
       "      <th>Annabelle</th>\n",
       "      <th>60</th>\n",
       "      <td>NaN</td>\n",
       "      <td>NaN</td>\n",
       "      <td>NaN</td>\n",
       "      <td>37678.0</td>\n",
       "      <td>NaN</td>\n",
       "      <td>NaN</td>\n",
       "    </tr>\n",
       "    <tr>\n",
       "      <th>Bob</th>\n",
       "      <th>3</th>\n",
       "      <td>NaN</td>\n",
       "      <td>NaN</td>\n",
       "      <td>NaN</td>\n",
       "      <td>NaN</td>\n",
       "      <td>48675.0</td>\n",
       "      <td>NaN</td>\n",
       "    </tr>\n",
       "    <tr>\n",
       "      <th>Jonathan</th>\n",
       "      <th>49</th>\n",
       "      <td>NaN</td>\n",
       "      <td>NaN</td>\n",
       "      <td>23793.0</td>\n",
       "      <td>NaN</td>\n",
       "      <td>NaN</td>\n",
       "      <td>NaN</td>\n",
       "    </tr>\n",
       "    <tr>\n",
       "      <th>Khaled</th>\n",
       "      <th>43</th>\n",
       "      <td>40454.0</td>\n",
       "      <td>NaN</td>\n",
       "      <td>NaN</td>\n",
       "      <td>NaN</td>\n",
       "      <td>NaN</td>\n",
       "      <td>NaN</td>\n",
       "    </tr>\n",
       "    <tr>\n",
       "      <th>Tatiana</th>\n",
       "      <th>9</th>\n",
       "      <td>NaN</td>\n",
       "      <td>33805.0</td>\n",
       "      <td>NaN</td>\n",
       "      <td>NaN</td>\n",
       "      <td>NaN</td>\n",
       "      <td>NaN</td>\n",
       "    </tr>\n",
       "  </tbody>\n",
       "</table>\n",
       "</div>"
      ],
      "text/plain": [
       "                              salary                             \\\n",
       "department            Administration Engineering HumanResources   \n",
       "name      employee_id                                             \n",
       "Alice     90                     NaN         NaN            NaN   \n",
       "Annabelle 60                     NaN         NaN            NaN   \n",
       "Bob       3                      NaN         NaN            NaN   \n",
       "Jonathan  49                     NaN         NaN        23793.0   \n",
       "Khaled    43                 40454.0         NaN            NaN   \n",
       "Tatiana   9                      NaN     33805.0            NaN   \n",
       "\n",
       "                                                                 \n",
       "department            InformationTechnology Operations    Sales  \n",
       "name      employee_id                                            \n",
       "Alice     90                            NaN        NaN  11096.0  \n",
       "Annabelle 60                        37678.0        NaN      NaN  \n",
       "Bob       3                             NaN    48675.0      NaN  \n",
       "Jonathan  49                            NaN        NaN      NaN  \n",
       "Khaled    43                            NaN        NaN      NaN  \n",
       "Tatiana   9                             NaN        NaN      NaN  "
      ]
     },
     "execution_count": 31,
     "metadata": {},
     "output_type": "execute_result"
    }
   ],
   "source": [
    "emp.pivot(index=[\"name\",\"employee_id\"],columns=\"department\", values=[\"salary\"])\n",
    "# can pass multiple values in indexes values and columns in list form."
   ]
  },
  {
   "cell_type": "markdown",
   "metadata": {},
   "source": [
    "4.3 Pivot Table\n",
    "\n",
    "The pivot_table() function is used to create a spreadsheet-style pivot table as dataframe."
   ]
  },
  {
   "cell_type": "code",
   "execution_count": 32,
   "metadata": {},
   "outputs": [
    {
     "data": {
      "text/html": [
       "<div>\n",
       "<style scoped>\n",
       "    .dataframe tbody tr th:only-of-type {\n",
       "        vertical-align: middle;\n",
       "    }\n",
       "\n",
       "    .dataframe tbody tr th {\n",
       "        vertical-align: top;\n",
       "    }\n",
       "\n",
       "    .dataframe thead th {\n",
       "        text-align: right;\n",
       "    }\n",
       "</style>\n",
       "<table border=\"1\" class=\"dataframe\">\n",
       "  <thead>\n",
       "    <tr style=\"text-align: right;\">\n",
       "      <th></th>\n",
       "      <th></th>\n",
       "      <th>bonus</th>\n",
       "      <th>employee_id</th>\n",
       "      <th>salary</th>\n",
       "    </tr>\n",
       "    <tr>\n",
       "      <th>name</th>\n",
       "      <th>department</th>\n",
       "      <th></th>\n",
       "      <th></th>\n",
       "      <th></th>\n",
       "    </tr>\n",
       "  </thead>\n",
       "  <tbody>\n",
       "    <tr>\n",
       "      <th>Alice</th>\n",
       "      <th>Sales</th>\n",
       "      <td>16644.0</td>\n",
       "      <td>90.0</td>\n",
       "      <td>11096.0</td>\n",
       "    </tr>\n",
       "    <tr>\n",
       "      <th>Annabelle</th>\n",
       "      <th>InformationTechnology</th>\n",
       "      <td>56517.0</td>\n",
       "      <td>60.0</td>\n",
       "      <td>37678.0</td>\n",
       "    </tr>\n",
       "    <tr>\n",
       "      <th>Bob</th>\n",
       "      <th>Operations</th>\n",
       "      <td>73012.5</td>\n",
       "      <td>3.0</td>\n",
       "      <td>48675.0</td>\n",
       "    </tr>\n",
       "    <tr>\n",
       "      <th>Jonathan</th>\n",
       "      <th>HumanResources</th>\n",
       "      <td>35689.5</td>\n",
       "      <td>49.0</td>\n",
       "      <td>23793.0</td>\n",
       "    </tr>\n",
       "    <tr>\n",
       "      <th>Khaled</th>\n",
       "      <th>Administration</th>\n",
       "      <td>60681.0</td>\n",
       "      <td>43.0</td>\n",
       "      <td>40454.0</td>\n",
       "    </tr>\n",
       "    <tr>\n",
       "      <th>Tatiana</th>\n",
       "      <th>Engineering</th>\n",
       "      <td>50707.5</td>\n",
       "      <td>9.0</td>\n",
       "      <td>33805.0</td>\n",
       "    </tr>\n",
       "  </tbody>\n",
       "</table>\n",
       "</div>"
      ],
      "text/plain": [
       "                                   bonus  employee_id   salary\n",
       "name      department                                          \n",
       "Alice     Sales                  16644.0         90.0  11096.0\n",
       "Annabelle InformationTechnology  56517.0         60.0  37678.0\n",
       "Bob       Operations             73012.5          3.0  48675.0\n",
       "Jonathan  HumanResources         35689.5         49.0  23793.0\n",
       "Khaled    Administration         60681.0         43.0  40454.0\n",
       "Tatiana   Engineering            50707.5          9.0  33805.0"
      ]
     },
     "execution_count": 32,
     "metadata": {},
     "output_type": "execute_result"
    }
   ],
   "source": [
    "emp.pivot_table(index=[\"name\", \"department\"])\n"
   ]
  },
  {
   "cell_type": "code",
   "execution_count": 33,
   "metadata": {},
   "outputs": [
    {
     "name": "stdout",
     "output_type": "stream",
     "text": [
      "year   2020  2021\n",
      "name             \n",
      "Alice    85    85\n",
      "Bob      90    95\n"
     ]
    }
   ],
   "source": [
    "\n",
    "df = pd.DataFrame({\n",
    "    'name': ['Alice', 'Bob', 'Alice', 'Bob'],\n",
    "    'year': [2020, 2020, 2021, 2021],\n",
    "    'score': [85, 90, 85, 95]\n",
    "    \n",
    "})\n",
    "\n",
    "# Pivot: Year as columns, names as rows, and scores as values\n",
    "pivoted = df.pivot(index='name', columns='year', values='score')\n",
    "print(pivoted)\n"
   ]
  },
  {
   "cell_type": "code",
   "execution_count": 34,
   "metadata": {},
   "outputs": [
    {
     "name": "stderr",
     "output_type": "stream",
     "text": [
      "/tmp/ipykernel_18727/796941073.py:23: FutureWarning: ChainedAssignmentError: behaviour will change in pandas 3.0!\n",
      "You are setting values through chained assignment. Currently this works in certain cases, but when using Copy-on-Write (which will become the default behaviour in pandas 3.0) this will never work to update the original DataFrame or Series, because the intermediate object on which we are setting values will behave as a copy.\n",
      "A typical example is when you are setting values in a column of a DataFrame, like:\n",
      "\n",
      "df[\"col\"][row_indexer] = value\n",
      "\n",
      "Use `df.loc[row_indexer, \"col\"] = values` instead, to perform the assignment in a single step and ensure this keeps updating the original `df`.\n",
      "\n",
      "See the caveats in the documentation: https://pandas.pydata.org/pandas-docs/stable/user_guide/indexing.html#returning-a-view-versus-a-copy\n",
      "\n",
      "  data['department'][data['name']=='Hannah'] = 'Finance'\n",
      "/tmp/ipykernel_18727/796941073.py:23: SettingWithCopyWarning: \n",
      "A value is trying to be set on a copy of a slice from a DataFrame\n",
      "\n",
      "See the caveats in the documentation: https://pandas.pydata.org/pandas-docs/stable/user_guide/indexing.html#returning-a-view-versus-a-copy\n",
      "  data['department'][data['name']=='Hannah'] = 'Finance'\n",
      "/tmp/ipykernel_18727/796941073.py:28: FutureWarning: The provided callable <built-in function min> is currently using DataFrameGroupBy.min. In a future version of pandas, the provided callable will be used directly. To keep current behavior pass the string \"min\" instead.\n",
      "  data.pivot_table(index=[\"gender\",\"department\"],aggfunc=min)\n"
     ]
    },
    {
     "data": {
      "text/html": [
       "<div>\n",
       "<style scoped>\n",
       "    .dataframe tbody tr th:only-of-type {\n",
       "        vertical-align: middle;\n",
       "    }\n",
       "\n",
       "    .dataframe tbody tr th {\n",
       "        vertical-align: top;\n",
       "    }\n",
       "\n",
       "    .dataframe thead th {\n",
       "        text-align: right;\n",
       "    }\n",
       "</style>\n",
       "<table border=\"1\" class=\"dataframe\">\n",
       "  <thead>\n",
       "    <tr style=\"text-align: right;\">\n",
       "      <th></th>\n",
       "      <th></th>\n",
       "      <th>experience</th>\n",
       "      <th>location</th>\n",
       "      <th>name</th>\n",
       "      <th>salary</th>\n",
       "    </tr>\n",
       "    <tr>\n",
       "      <th>gender</th>\n",
       "      <th>department</th>\n",
       "      <th></th>\n",
       "      <th></th>\n",
       "      <th></th>\n",
       "      <th></th>\n",
       "    </tr>\n",
       "  </thead>\n",
       "  <tbody>\n",
       "    <tr>\n",
       "      <th rowspan=\"3\" valign=\"top\">F</th>\n",
       "      <th>Finance</th>\n",
       "      <td>4</td>\n",
       "      <td>Bangalore</td>\n",
       "      <td>Hannah</td>\n",
       "      <td>52000</td>\n",
       "    </tr>\n",
       "    <tr>\n",
       "      <th>HR</th>\n",
       "      <td>1</td>\n",
       "      <td>Bangalore</td>\n",
       "      <td>Alice</td>\n",
       "      <td>45000</td>\n",
       "    </tr>\n",
       "    <tr>\n",
       "      <th>IT</th>\n",
       "      <td>3</td>\n",
       "      <td>Pune</td>\n",
       "      <td>Nina</td>\n",
       "      <td>73000</td>\n",
       "    </tr>\n",
       "    <tr>\n",
       "      <th rowspan=\"4\" valign=\"top\">M</th>\n",
       "      <th>Finance</th>\n",
       "      <td>4</td>\n",
       "      <td>Bangalore</td>\n",
       "      <td>Charlie</td>\n",
       "      <td>64000</td>\n",
       "    </tr>\n",
       "    <tr>\n",
       "      <th>HR</th>\n",
       "      <td>2</td>\n",
       "      <td>Delhi</td>\n",
       "      <td>Jack</td>\n",
       "      <td>48000</td>\n",
       "    </tr>\n",
       "    <tr>\n",
       "      <th>IT</th>\n",
       "      <td>5</td>\n",
       "      <td>Chennai</td>\n",
       "      <td>Bob</td>\n",
       "      <td>70000</td>\n",
       "    </tr>\n",
       "    <tr>\n",
       "      <th>Marketing</th>\n",
       "      <td>4</td>\n",
       "      <td>Hyderabad</td>\n",
       "      <td>Leo</td>\n",
       "      <td>54000</td>\n",
       "    </tr>\n",
       "  </tbody>\n",
       "</table>\n",
       "</div>"
      ],
      "text/plain": [
       "                   experience   location     name  salary\n",
       "gender department                                        \n",
       "F      Finance              4  Bangalore   Hannah   52000\n",
       "       HR                   1  Bangalore    Alice   45000\n",
       "       IT                   3       Pune     Nina   73000\n",
       "M      Finance              4  Bangalore  Charlie   64000\n",
       "       HR                   2      Delhi     Jack   48000\n",
       "       IT                   5    Chennai      Bob   70000\n",
       "       Marketing            4  Hyderabad      Leo   54000"
      ]
     },
     "execution_count": 34,
     "metadata": {},
     "output_type": "execute_result"
    }
   ],
   "source": [
    "data = {\n",
    "    'name': ['Alice', 'Bob', 'Charlie', 'David', 'Eva', 'Frank', 'Grace', 'Hannah', 'Ivan', 'Jack',\n",
    "             'Kira', 'Leo', 'Mia', 'Nina', 'Oscar', 'Paul', 'Quinn', 'Rachel', 'Steve', 'Tina'],\n",
    "    'gender': ['F', 'M', 'M', 'M', 'F', 'M', 'F', 'F', 'M', 'M',\n",
    "               'F', 'M', 'F', 'F', 'M', 'F', 'F', 'F', 'M', 'F'],\n",
    "    'department': ['HR', 'IT', 'Finance', 'IT', 'HR', 'Finance', 'HR', 'Marketing', 'IT', 'HR',\n",
    "                   'Finance', 'Marketing', 'Finance', 'IT', 'Marketing', 'HR', 'IT', 'Finance', 'IT', 'HR'],\n",
    "    'salary': [45000, 70000, 65000, 72000, 46000, 64000, 47000, 52000, 71000, 48000,\n",
    "               63000, 54000, 62000, 73000, 55000, 49000, 74000, 61000, 75000, 50000],\n",
    "    'experience': [2, 5, 4, 6, 3, 7, 1, 5, 8, 2,\n",
    "                   6, 4, 5, 3, 7, 2, 6, 4, 9, 3],\n",
    "    'location': ['Delhi', 'Mumbai', 'Bangalore', 'Pune', 'Delhi', 'Chennai', 'Delhi', 'Hyderabad', 'Mumbai', 'Delhi',\n",
    "                 'Bangalore', 'Hyderabad', 'Chennai', 'Pune', 'Mumbai', 'Bangalore', 'Pune', 'Delhi', 'Chennai', 'Hyderabad']\n",
    "}\n",
    "empl = pd.DataFrame(data)\n",
    "data = pd.DataFrame(data)\n",
    "\n",
    "# data[data['name']=='Hannah'].loc[:,'department']\n",
    "\n",
    "# updating particular cells different methods. \n",
    "\n",
    "\n",
    "data['department'][data['name']=='Hannah'] = 'Finance'\n",
    "# data.loc[data['name']=='Hannah','department'] = 'Marketing'\n",
    "# data.iloc[7,2] = 'Finance' # \n",
    "data\n",
    "\n",
    "data.pivot_table(index=[\"gender\",\"department\"],aggfunc=min)\n"
   ]
  },
  {
   "cell_type": "code",
   "execution_count": 35,
   "metadata": {},
   "outputs": [
    {
     "data": {
      "text/html": [
       "<div>\n",
       "<style scoped>\n",
       "    .dataframe tbody tr th:only-of-type {\n",
       "        vertical-align: middle;\n",
       "    }\n",
       "\n",
       "    .dataframe tbody tr th {\n",
       "        vertical-align: top;\n",
       "    }\n",
       "\n",
       "    .dataframe thead th {\n",
       "        text-align: right;\n",
       "    }\n",
       "</style>\n",
       "<table border=\"1\" class=\"dataframe\">\n",
       "  <thead>\n",
       "    <tr style=\"text-align: right;\">\n",
       "      <th></th>\n",
       "      <th>name</th>\n",
       "      <th>gender</th>\n",
       "      <th>department</th>\n",
       "      <th>salary</th>\n",
       "      <th>experience</th>\n",
       "      <th>location</th>\n",
       "    </tr>\n",
       "  </thead>\n",
       "  <tbody>\n",
       "    <tr>\n",
       "      <th>0</th>\n",
       "      <td>Alice</td>\n",
       "      <td>F</td>\n",
       "      <td>HR</td>\n",
       "      <td>45000</td>\n",
       "      <td>2</td>\n",
       "      <td>Delhi</td>\n",
       "    </tr>\n",
       "    <tr>\n",
       "      <th>1</th>\n",
       "      <td>Bob</td>\n",
       "      <td>M</td>\n",
       "      <td>IT</td>\n",
       "      <td>70000</td>\n",
       "      <td>5</td>\n",
       "      <td>Mumbai</td>\n",
       "    </tr>\n",
       "    <tr>\n",
       "      <th>2</th>\n",
       "      <td>Charlie</td>\n",
       "      <td>M</td>\n",
       "      <td>Finance</td>\n",
       "      <td>65000</td>\n",
       "      <td>4</td>\n",
       "      <td>Bangalore</td>\n",
       "    </tr>\n",
       "    <tr>\n",
       "      <th>3</th>\n",
       "      <td>David</td>\n",
       "      <td>M</td>\n",
       "      <td>IT</td>\n",
       "      <td>72000</td>\n",
       "      <td>6</td>\n",
       "      <td>Pune</td>\n",
       "    </tr>\n",
       "    <tr>\n",
       "      <th>4</th>\n",
       "      <td>Eva</td>\n",
       "      <td>F</td>\n",
       "      <td>HR</td>\n",
       "      <td>46000</td>\n",
       "      <td>3</td>\n",
       "      <td>Delhi</td>\n",
       "    </tr>\n",
       "    <tr>\n",
       "      <th>5</th>\n",
       "      <td>Frank</td>\n",
       "      <td>M</td>\n",
       "      <td>Finance</td>\n",
       "      <td>64000</td>\n",
       "      <td>7</td>\n",
       "      <td>Chennai</td>\n",
       "    </tr>\n",
       "    <tr>\n",
       "      <th>6</th>\n",
       "      <td>Grace</td>\n",
       "      <td>F</td>\n",
       "      <td>HR</td>\n",
       "      <td>47000</td>\n",
       "      <td>1</td>\n",
       "      <td>Delhi</td>\n",
       "    </tr>\n",
       "    <tr>\n",
       "      <th>7</th>\n",
       "      <td>Hannah</td>\n",
       "      <td>F</td>\n",
       "      <td>Marketing</td>\n",
       "      <td>52000</td>\n",
       "      <td>5</td>\n",
       "      <td>Hyderabad</td>\n",
       "    </tr>\n",
       "    <tr>\n",
       "      <th>8</th>\n",
       "      <td>Ivan</td>\n",
       "      <td>M</td>\n",
       "      <td>IT</td>\n",
       "      <td>71000</td>\n",
       "      <td>8</td>\n",
       "      <td>Mumbai</td>\n",
       "    </tr>\n",
       "    <tr>\n",
       "      <th>9</th>\n",
       "      <td>Jack</td>\n",
       "      <td>M</td>\n",
       "      <td>HR</td>\n",
       "      <td>48000</td>\n",
       "      <td>2</td>\n",
       "      <td>Delhi</td>\n",
       "    </tr>\n",
       "    <tr>\n",
       "      <th>10</th>\n",
       "      <td>Kira</td>\n",
       "      <td>F</td>\n",
       "      <td>Finance</td>\n",
       "      <td>63000</td>\n",
       "      <td>6</td>\n",
       "      <td>Bangalore</td>\n",
       "    </tr>\n",
       "    <tr>\n",
       "      <th>11</th>\n",
       "      <td>Leo</td>\n",
       "      <td>M</td>\n",
       "      <td>Marketing</td>\n",
       "      <td>54000</td>\n",
       "      <td>4</td>\n",
       "      <td>Hyderabad</td>\n",
       "    </tr>\n",
       "    <tr>\n",
       "      <th>12</th>\n",
       "      <td>Mia</td>\n",
       "      <td>F</td>\n",
       "      <td>Finance</td>\n",
       "      <td>62000</td>\n",
       "      <td>5</td>\n",
       "      <td>Chennai</td>\n",
       "    </tr>\n",
       "    <tr>\n",
       "      <th>13</th>\n",
       "      <td>Nina</td>\n",
       "      <td>F</td>\n",
       "      <td>IT</td>\n",
       "      <td>73000</td>\n",
       "      <td>3</td>\n",
       "      <td>Pune</td>\n",
       "    </tr>\n",
       "    <tr>\n",
       "      <th>14</th>\n",
       "      <td>Oscar</td>\n",
       "      <td>M</td>\n",
       "      <td>Marketing</td>\n",
       "      <td>55000</td>\n",
       "      <td>7</td>\n",
       "      <td>Mumbai</td>\n",
       "    </tr>\n",
       "    <tr>\n",
       "      <th>15</th>\n",
       "      <td>Paul</td>\n",
       "      <td>F</td>\n",
       "      <td>HR</td>\n",
       "      <td>49000</td>\n",
       "      <td>2</td>\n",
       "      <td>Bangalore</td>\n",
       "    </tr>\n",
       "    <tr>\n",
       "      <th>16</th>\n",
       "      <td>Quinn</td>\n",
       "      <td>F</td>\n",
       "      <td>IT</td>\n",
       "      <td>74000</td>\n",
       "      <td>6</td>\n",
       "      <td>Pune</td>\n",
       "    </tr>\n",
       "    <tr>\n",
       "      <th>17</th>\n",
       "      <td>Rachel</td>\n",
       "      <td>F</td>\n",
       "      <td>Finance</td>\n",
       "      <td>61000</td>\n",
       "      <td>4</td>\n",
       "      <td>Delhi</td>\n",
       "    </tr>\n",
       "    <tr>\n",
       "      <th>18</th>\n",
       "      <td>Steve</td>\n",
       "      <td>M</td>\n",
       "      <td>IT</td>\n",
       "      <td>75000</td>\n",
       "      <td>9</td>\n",
       "      <td>Chennai</td>\n",
       "    </tr>\n",
       "    <tr>\n",
       "      <th>19</th>\n",
       "      <td>Tina</td>\n",
       "      <td>F</td>\n",
       "      <td>HR</td>\n",
       "      <td>50000</td>\n",
       "      <td>3</td>\n",
       "      <td>Hyderabad</td>\n",
       "    </tr>\n",
       "  </tbody>\n",
       "</table>\n",
       "</div>"
      ],
      "text/plain": [
       "       name gender department  salary  experience   location\n",
       "0     Alice      F         HR   45000           2      Delhi\n",
       "1       Bob      M         IT   70000           5     Mumbai\n",
       "2   Charlie      M    Finance   65000           4  Bangalore\n",
       "3     David      M         IT   72000           6       Pune\n",
       "4       Eva      F         HR   46000           3      Delhi\n",
       "5     Frank      M    Finance   64000           7    Chennai\n",
       "6     Grace      F         HR   47000           1      Delhi\n",
       "7    Hannah      F  Marketing   52000           5  Hyderabad\n",
       "8      Ivan      M         IT   71000           8     Mumbai\n",
       "9      Jack      M         HR   48000           2      Delhi\n",
       "10     Kira      F    Finance   63000           6  Bangalore\n",
       "11      Leo      M  Marketing   54000           4  Hyderabad\n",
       "12      Mia      F    Finance   62000           5    Chennai\n",
       "13     Nina      F         IT   73000           3       Pune\n",
       "14    Oscar      M  Marketing   55000           7     Mumbai\n",
       "15     Paul      F         HR   49000           2  Bangalore\n",
       "16    Quinn      F         IT   74000           6       Pune\n",
       "17   Rachel      F    Finance   61000           4      Delhi\n",
       "18    Steve      M         IT   75000           9    Chennai\n",
       "19     Tina      F         HR   50000           3  Hyderabad"
      ]
     },
     "execution_count": 35,
     "metadata": {},
     "output_type": "execute_result"
    }
   ],
   "source": [
    "empl"
   ]
  },
  {
   "cell_type": "markdown",
   "metadata": {},
   "source": [
    "4.4 Cross Tab \n",
    "\n",
    "Compute a simple cross tabulation of two (or more) factors.\n",
    "\n",
    "By default computes a frequency table of the factors unless an array of values and an aggregation function are passed"
   ]
  },
  {
   "cell_type": "code",
   "execution_count": 60,
   "metadata": {},
   "outputs": [
    {
     "data": {
      "text/html": [
       "<div>\n",
       "<style scoped>\n",
       "    .dataframe tbody tr th:only-of-type {\n",
       "        vertical-align: middle;\n",
       "    }\n",
       "\n",
       "    .dataframe tbody tr th {\n",
       "        vertical-align: top;\n",
       "    }\n",
       "\n",
       "    .dataframe thead th {\n",
       "        text-align: right;\n",
       "    }\n",
       "</style>\n",
       "<table border=\"1\" class=\"dataframe\">\n",
       "  <thead>\n",
       "    <tr style=\"text-align: right;\">\n",
       "      <th>department</th>\n",
       "      <th>Finance</th>\n",
       "      <th>HR</th>\n",
       "      <th>IT</th>\n",
       "      <th>Marketing</th>\n",
       "    </tr>\n",
       "    <tr>\n",
       "      <th>gender</th>\n",
       "      <th></th>\n",
       "      <th></th>\n",
       "      <th></th>\n",
       "      <th></th>\n",
       "    </tr>\n",
       "  </thead>\n",
       "  <tbody>\n",
       "    <tr>\n",
       "      <th>F</th>\n",
       "      <td>3</td>\n",
       "      <td>5</td>\n",
       "      <td>2</td>\n",
       "      <td>1</td>\n",
       "    </tr>\n",
       "    <tr>\n",
       "      <th>M</th>\n",
       "      <td>2</td>\n",
       "      <td>1</td>\n",
       "      <td>4</td>\n",
       "      <td>2</td>\n",
       "    </tr>\n",
       "  </tbody>\n",
       "</table>\n",
       "</div>"
      ],
      "text/plain": [
       "department  Finance  HR  IT  Marketing\n",
       "gender                                \n",
       "F                 3   5   2          1\n",
       "M                 2   1   4          2"
      ]
     },
     "execution_count": 60,
     "metadata": {},
     "output_type": "execute_result"
    }
   ],
   "source": [
    "pd.crosstab(empl['gender'], empl['department'])\n",
    "# by default gives the table of the number of males and females in each department."
   ]
  },
  {
   "cell_type": "markdown",
   "metadata": {},
   "source": [
    "4.5 Cut\n",
    "\n",
    "The pandas.cut() function is used to segment and sort data values into discrete bins or intervals. It's very useful when you want to group continuous data into categories."
   ]
  },
  {
   "cell_type": "code",
   "execution_count": 93,
   "metadata": {},
   "outputs": [
    {
     "data": {
      "text/html": [
       "<div>\n",
       "<style scoped>\n",
       "    .dataframe tbody tr th:only-of-type {\n",
       "        vertical-align: middle;\n",
       "    }\n",
       "\n",
       "    .dataframe tbody tr th {\n",
       "        vertical-align: top;\n",
       "    }\n",
       "\n",
       "    .dataframe thead th {\n",
       "        text-align: right;\n",
       "    }\n",
       "</style>\n",
       "<table border=\"1\" class=\"dataframe\">\n",
       "  <thead>\n",
       "    <tr style=\"text-align: right;\">\n",
       "      <th></th>\n",
       "      <th>Age</th>\n",
       "      <th>bins</th>\n",
       "    </tr>\n",
       "  </thead>\n",
       "  <tbody>\n",
       "    <tr>\n",
       "      <th>0</th>\n",
       "      <td>34</td>\n",
       "      <td>young</td>\n",
       "    </tr>\n",
       "    <tr>\n",
       "      <th>1</th>\n",
       "      <td>54</td>\n",
       "      <td>adult</td>\n",
       "    </tr>\n",
       "    <tr>\n",
       "      <th>2</th>\n",
       "      <td>29</td>\n",
       "      <td>young</td>\n",
       "    </tr>\n",
       "    <tr>\n",
       "      <th>3</th>\n",
       "      <td>12</td>\n",
       "      <td>kids</td>\n",
       "    </tr>\n",
       "    <tr>\n",
       "      <th>4</th>\n",
       "      <td>66</td>\n",
       "      <td>old</td>\n",
       "    </tr>\n",
       "    <tr>\n",
       "      <th>5</th>\n",
       "      <td>69</td>\n",
       "      <td>old</td>\n",
       "    </tr>\n",
       "    <tr>\n",
       "      <th>6</th>\n",
       "      <td>89</td>\n",
       "      <td>very old</td>\n",
       "    </tr>\n",
       "    <tr>\n",
       "      <th>7</th>\n",
       "      <td>32</td>\n",
       "      <td>young</td>\n",
       "    </tr>\n",
       "    <tr>\n",
       "      <th>8</th>\n",
       "      <td>4</td>\n",
       "      <td>kids</td>\n",
       "    </tr>\n",
       "    <tr>\n",
       "      <th>9</th>\n",
       "      <td>92</td>\n",
       "      <td>very old</td>\n",
       "    </tr>\n",
       "    <tr>\n",
       "      <th>10</th>\n",
       "      <td>16</td>\n",
       "      <td>kids</td>\n",
       "    </tr>\n",
       "    <tr>\n",
       "      <th>11</th>\n",
       "      <td>41</td>\n",
       "      <td>adult</td>\n",
       "    </tr>\n",
       "    <tr>\n",
       "      <th>12</th>\n",
       "      <td>92</td>\n",
       "      <td>very old</td>\n",
       "    </tr>\n",
       "    <tr>\n",
       "      <th>13</th>\n",
       "      <td>18</td>\n",
       "      <td>kids</td>\n",
       "    </tr>\n",
       "    <tr>\n",
       "      <th>14</th>\n",
       "      <td>77</td>\n",
       "      <td>old</td>\n",
       "    </tr>\n",
       "    <tr>\n",
       "      <th>15</th>\n",
       "      <td>65</td>\n",
       "      <td>old</td>\n",
       "    </tr>\n",
       "    <tr>\n",
       "      <th>16</th>\n",
       "      <td>10</td>\n",
       "      <td>kids</td>\n",
       "    </tr>\n",
       "    <tr>\n",
       "      <th>17</th>\n",
       "      <td>8</td>\n",
       "      <td>kids</td>\n",
       "    </tr>\n",
       "    <tr>\n",
       "      <th>18</th>\n",
       "      <td>98</td>\n",
       "      <td>very old</td>\n",
       "    </tr>\n",
       "    <tr>\n",
       "      <th>19</th>\n",
       "      <td>70</td>\n",
       "      <td>old</td>\n",
       "    </tr>\n",
       "    <tr>\n",
       "      <th>20</th>\n",
       "      <td>95</td>\n",
       "      <td>very old</td>\n",
       "    </tr>\n",
       "    <tr>\n",
       "      <th>21</th>\n",
       "      <td>21</td>\n",
       "      <td>young</td>\n",
       "    </tr>\n",
       "    <tr>\n",
       "      <th>22</th>\n",
       "      <td>86</td>\n",
       "      <td>very old</td>\n",
       "    </tr>\n",
       "    <tr>\n",
       "      <th>23</th>\n",
       "      <td>66</td>\n",
       "      <td>old</td>\n",
       "    </tr>\n",
       "    <tr>\n",
       "      <th>24</th>\n",
       "      <td>99</td>\n",
       "      <td>very old</td>\n",
       "    </tr>\n",
       "    <tr>\n",
       "      <th>25</th>\n",
       "      <td>64</td>\n",
       "      <td>old</td>\n",
       "    </tr>\n",
       "    <tr>\n",
       "      <th>26</th>\n",
       "      <td>62</td>\n",
       "      <td>old</td>\n",
       "    </tr>\n",
       "    <tr>\n",
       "      <th>27</th>\n",
       "      <td>51</td>\n",
       "      <td>adult</td>\n",
       "    </tr>\n",
       "    <tr>\n",
       "      <th>28</th>\n",
       "      <td>38</td>\n",
       "      <td>young</td>\n",
       "    </tr>\n",
       "    <tr>\n",
       "      <th>29</th>\n",
       "      <td>31</td>\n",
       "      <td>young</td>\n",
       "    </tr>\n",
       "  </tbody>\n",
       "</table>\n",
       "</div>"
      ],
      "text/plain": [
       "    Age      bins\n",
       "0    34     young\n",
       "1    54     adult\n",
       "2    29     young\n",
       "3    12      kids\n",
       "4    66       old\n",
       "5    69       old\n",
       "6    89  very old\n",
       "7    32     young\n",
       "8     4      kids\n",
       "9    92  very old\n",
       "10   16      kids\n",
       "11   41     adult\n",
       "12   92  very old\n",
       "13   18      kids\n",
       "14   77       old\n",
       "15   65       old\n",
       "16   10      kids\n",
       "17    8      kids\n",
       "18   98  very old\n",
       "19   70       old\n",
       "20   95  very old\n",
       "21   21     young\n",
       "22   86  very old\n",
       "23   66       old\n",
       "24   99  very old\n",
       "25   64       old\n",
       "26   62       old\n",
       "27   51     adult\n",
       "28   38     young\n",
       "29   31     young"
      ]
     },
     "execution_count": 93,
     "metadata": {},
     "output_type": "execute_result"
    }
   ],
   "source": [
    "df = pd.DataFrame({'Age': np.random.randint(1,100,30)})\n",
    "\n",
    "df['bins'] = pd.cut(x=df['Age'], bins=[1,20,40,60,80,100], \n",
    "    labels=['kids', 'young', 'adult','old','very old'])\n",
    "\n",
    "df"
   ]
  },
  {
   "cell_type": "code",
   "execution_count": 94,
   "metadata": {},
   "outputs": [],
   "source": [
    "gender = []\n",
    "for i in range(30):\n",
    "    if i%2==0:\n",
    "        gender.append('Male')\n",
    "    else:\n",
    "        gender.append('Female')\n",
    "\n"
   ]
  },
  {
   "cell_type": "code",
   "execution_count": 95,
   "metadata": {},
   "outputs": [],
   "source": [
    "df.insert(2,'Gender', gender)"
   ]
  },
  {
   "cell_type": "code",
   "execution_count": 96,
   "metadata": {},
   "outputs": [
    {
     "data": {
      "text/html": [
       "<div>\n",
       "<style scoped>\n",
       "    .dataframe tbody tr th:only-of-type {\n",
       "        vertical-align: middle;\n",
       "    }\n",
       "\n",
       "    .dataframe tbody tr th {\n",
       "        vertical-align: top;\n",
       "    }\n",
       "\n",
       "    .dataframe thead th {\n",
       "        text-align: right;\n",
       "    }\n",
       "</style>\n",
       "<table border=\"1\" class=\"dataframe\">\n",
       "  <thead>\n",
       "    <tr style=\"text-align: right;\">\n",
       "      <th>bins</th>\n",
       "      <th>kids</th>\n",
       "      <th>young</th>\n",
       "      <th>adult</th>\n",
       "      <th>old</th>\n",
       "      <th>very old</th>\n",
       "    </tr>\n",
       "    <tr>\n",
       "      <th>Gender</th>\n",
       "      <th></th>\n",
       "      <th></th>\n",
       "      <th></th>\n",
       "      <th></th>\n",
       "      <th></th>\n",
       "    </tr>\n",
       "  </thead>\n",
       "  <tbody>\n",
       "    <tr>\n",
       "      <th>Female</th>\n",
       "      <td>3</td>\n",
       "      <td>3</td>\n",
       "      <td>3</td>\n",
       "      <td>5</td>\n",
       "      <td>1</td>\n",
       "    </tr>\n",
       "    <tr>\n",
       "      <th>Male</th>\n",
       "      <td>3</td>\n",
       "      <td>3</td>\n",
       "      <td>0</td>\n",
       "      <td>3</td>\n",
       "      <td>6</td>\n",
       "    </tr>\n",
       "  </tbody>\n",
       "</table>\n",
       "</div>"
      ],
      "text/plain": [
       "bins    kids  young  adult  old  very old\n",
       "Gender                                   \n",
       "Female     3      3      3    5         1\n",
       "Male       3      3      0    3         6"
      ]
     },
     "execution_count": 96,
     "metadata": {},
     "output_type": "execute_result"
    }
   ],
   "source": [
    "df\n",
    "pd.crosstab(df['Gender'], df['bins'])"
   ]
  },
  {
   "cell_type": "code",
   "execution_count": null,
   "metadata": {},
   "outputs": [
    {
     "name": "stderr",
     "output_type": "stream",
     "text": [
      "/tmp/ipykernel_18727/586279801.py:3: UserWarning: Boolean Series key will be reindexed to match DataFrame index.\n",
      "  df[df['Gender']=='Female'][df['bins']=='kids']\n",
      "/tmp/ipykernel_18727/586279801.py:5: UserWarning: Boolean Series key will be reindexed to match DataFrame index.\n",
      "  df.loc[df['Gender']=='Female'][df['bins']=='kids']\n"
     ]
    },
    {
     "data": {
      "text/plain": [
       "'kids'"
      ]
     },
     "execution_count": 105,
     "metadata": {},
     "output_type": "execute_result"
    }
   ],
   "source": [
    "# I want to get total number of female kids\n",
    "\n",
    "df[df['Gender']=='Female'][df['bins']=='kids']\n",
    "\n",
    "df.loc[df['Gender']=='Female'][df['bins']=='kids']\n",
    "\n",
    "df.loc[df['bins']=='kids']"
   ]
  },
  {
   "cell_type": "code",
   "execution_count": null,
   "metadata": {},
   "outputs": [],
   "source": [
    "  "
   ]
  }
 ],
 "metadata": {
  "kernelspec": {
   "display_name": "Python 3",
   "language": "python",
   "name": "python3"
  },
  "language_info": {
   "codemirror_mode": {
    "name": "ipython",
    "version": 3
   },
   "file_extension": ".py",
   "mimetype": "text/x-python",
   "name": "python",
   "nbconvert_exporter": "python",
   "pygments_lexer": "ipython3",
   "version": "3.10.12"
  }
 },
 "nbformat": 4,
 "nbformat_minor": 2
}
