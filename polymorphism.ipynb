{
 "cells": [
  {
   "cell_type": "markdown",
   "metadata": {},
   "source": [
    "<h3>Polymorphism</h3>\n",
    "<p>Polymorphism can be done by the two types:\n",
    "<ul>Overloading</ul>\n",
    "<ul>Overriding</ul>\n",
    "</p>\n"
   ]
  },
  {
   "cell_type": "code",
   "execution_count": null,
   "metadata": {},
   "outputs": [
    {
     "name": "stdout",
     "output_type": "stream",
     "text": [
      "30\n",
      "30\n",
      "1020\n",
      "1020\n"
     ]
    }
   ],
   "source": [
    "a = 10\n",
    "b = 20\n",
    "print(a+b)\n",
    "print(int.__add__(a,b))\n",
    "\n",
    "x = '10'\n",
    "y = '20'\n",
    "print(x+y)\n",
    "print(str.__add__(x,y))\n",
    "\n",
    "   "
   ]
  },
  {
   "cell_type": "code",
   "execution_count": 7,
   "metadata": {},
   "outputs": [
    {
     "name": "stdout",
     "output_type": "stream",
     "text": [
      "12000\n",
      "20000000\n"
     ]
    }
   ],
   "source": [
    "class expenses:\n",
    "\n",
    "    def __init__(self,exp):\n",
    "        self.exp = exp\n",
    "\n",
    "    def __add__(self, other):\n",
    "        print(self.exp + other.exp)\n",
    "\n",
    "    def __mul__(self,other):\n",
    "        print(self.exp*other.exp)\n",
    "\n",
    "    \n",
    "\n",
    "medical = expenses(10000)\n",
    "frnds = expenses(2000)\n",
    "\n",
    "medical + frnds\n",
    "\n",
    "medical*frnds"
   ]
  },
  {
   "cell_type": "markdown",
   "metadata": {},
   "source": [
    "<h4>Method Overriding</h4>\n",
    "<p>If child class not satisfied with parent class implementation of the method then child class can redefine the method and reimplement it.</p>\n",
    "<p> If child class does not contain constructor then the parent class constructor will get called.</p>"
   ]
  },
  {
   "cell_type": "code",
   "execution_count": null,
   "metadata": {},
   "outputs": [
    {
     "name": "stdout",
     "output_type": "stream",
     "text": [
      "I am child\n",
      "I am child class\n"
     ]
    }
   ],
   "source": [
    "class parent:\n",
    "\n",
    "    def __init__(self):\n",
    "        print(\"I am parent\")\n",
    "\n",
    "    def mobile(self):\n",
    "        print(\"I am parent I have mobile\")\n",
    "\n",
    "class child(parent):\n",
    "\n",
    "    def __init__(self):  # overrides the parent class constructor.\n",
    "        print(\"I am child\")\n",
    "\n",
    "    def mobile(self):\n",
    "        #super().mobile() # can use super keyword to access parent class method.\n",
    "        print(\"I am child class\")\n",
    "\n",
    "ob = child()\n",
    "ob.mobile()"
   ]
  },
  {
   "cell_type": "markdown",
   "metadata": {},
   "source": [
    "<h4>Super</h4>\n"
   ]
  },
  {
   "cell_type": "code",
   "execution_count": 15,
   "metadata": {},
   "outputs": [],
   "source": [
    "class car:\n",
    "    def __init__(self, name, model, wheels):\n",
    "        self.name = name\n",
    "        self.model = model\n",
    "        self.wheels = wheels\n",
    "\n",
    "    def display(self):\n",
    "        print(\"Brand is\", self.name)\n",
    "        print(\"Model is\", self.model)\n",
    "        print(\"wheels is: \", self.wheels)\n",
    "\n",
    "class purchase(car):\n",
    "    def __init__(self, name, model, wheels, price, payment):\n",
    "        super().__init__(name, model, wheels)\n",
    "        self.price = price\n",
    "        self.payment = payment \n",
    "\n",
    "    def display(self):  \n",
    "        super().display()\n",
    "        print(\"Price: \", self.price)\n",
    "        print(\"Payment type: \", self.payment) \n",
    "\n",
    "\n",
    "c1  = purchase('bmx', 'c1', 4, 1231412, 'netbn')\n",
    "\n",
    "        "
   ]
  },
  {
   "cell_type": "code",
   "execution_count": null,
   "metadata": {},
   "outputs": [],
   "source": []
  }
 ],
 "metadata": {
  "kernelspec": {
   "display_name": "Python 3",
   "language": "python",
   "name": "python3"
  },
  "language_info": {
   "codemirror_mode": {
    "name": "ipython",
    "version": 3
   },
   "file_extension": ".py",
   "mimetype": "text/x-python",
   "name": "python",
   "nbconvert_exporter": "python",
   "pygments_lexer": "ipython3",
   "version": "3.10.12"
  }
 },
 "nbformat": 4,
 "nbformat_minor": 2
}
