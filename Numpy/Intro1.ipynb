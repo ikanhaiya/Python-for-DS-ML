{
 "cells": [
  {
   "cell_type": "code",
   "execution_count": 1,
   "id": "ccfbb5f0",
   "metadata": {},
   "outputs": [],
   "source": [
    "import numpy as np"
   ]
  },
  {
   "cell_type": "markdown",
   "id": "13095830",
   "metadata": {},
   "source": [
    "1. Scaler"
   ]
  },
  {
   "cell_type": "code",
   "execution_count": 2,
   "id": "f8350c9a",
   "metadata": {},
   "outputs": [
    {
     "name": "stdout",
     "output_type": "stream",
     "text": [
      "[10]\n"
     ]
    },
    {
     "data": {
      "text/plain": [
       "numpy.ndarray"
      ]
     },
     "execution_count": 2,
     "metadata": {},
     "output_type": "execute_result"
    }
   ],
   "source": [
    "a = np.array([10])\n",
    "print(a)\n",
    "type(a)\n"
   ]
  },
  {
   "cell_type": "markdown",
   "id": "ed60866d",
   "metadata": {},
   "source": [
    "Vector"
   ]
  },
  {
   "cell_type": "code",
   "execution_count": 3,
   "id": "ea3b12db",
   "metadata": {},
   "outputs": [
    {
     "data": {
      "text/plain": [
       "numpy.ndarray"
      ]
     },
     "execution_count": 3,
     "metadata": {},
     "output_type": "execute_result"
    }
   ],
   "source": [
    "b = np.array([1,2,3,4,5,6])\n",
    "type(b)"
   ]
  },
  {
   "cell_type": "markdown",
   "id": "c65f2cbd",
   "metadata": {},
   "source": [
    "3.Matrices"
   ]
  },
  {
   "cell_type": "code",
   "execution_count": 4,
   "id": "63c0e11a",
   "metadata": {},
   "outputs": [
    {
     "name": "stdout",
     "output_type": "stream",
     "text": [
      "[[1 2 3 4 5]\n",
      " [2 3 4 5 6]]\n"
     ]
    },
    {
     "data": {
      "text/plain": [
       "numpy.ndarray"
      ]
     },
     "execution_count": 4,
     "metadata": {},
     "output_type": "execute_result"
    }
   ],
   "source": [
    "c = np.array([[1,2,3,4,5],[2,3,4,5,6]])\n",
    "# np.matrix()\n",
    "print(c)\n",
    "type(c)"
   ]
  },
  {
   "cell_type": "markdown",
   "id": "ec7fd16d",
   "metadata": {},
   "source": [
    "4. Array"
   ]
  },
  {
   "cell_type": "code",
   "execution_count": 5,
   "id": "3c9153c6",
   "metadata": {},
   "outputs": [
    {
     "data": {
      "text/plain": [
       "array([1, 2, 3])"
      ]
     },
     "execution_count": 5,
     "metadata": {},
     "output_type": "execute_result"
    }
   ],
   "source": [
    "np.array([1,2,3])"
   ]
  },
  {
   "cell_type": "markdown",
   "id": "89a06170",
   "metadata": {},
   "source": [
    "upcasting"
   ]
  },
  {
   "cell_type": "code",
   "execution_count": 6,
   "id": "fd503282",
   "metadata": {},
   "outputs": [
    {
     "data": {
      "text/plain": [
       "array([1. , 2. , 3.1])"
      ]
     },
     "execution_count": 6,
     "metadata": {},
     "output_type": "execute_result"
    }
   ],
   "source": [
    "np.array([1,2,3.1])"
   ]
  },
  {
   "cell_type": "code",
   "execution_count": 7,
   "id": "12e632f8",
   "metadata": {},
   "outputs": [],
   "source": [
    "a = np.array([1,2,3,4], ndmin=2)"
   ]
  },
  {
   "cell_type": "code",
   "execution_count": 8,
   "id": "e6793a3f",
   "metadata": {},
   "outputs": [
    {
     "name": "stdout",
     "output_type": "stream",
     "text": [
      "[[1 2 3 4]]\n"
     ]
    }
   ],
   "source": [
    "a.ndim\n",
    "print(a)"
   ]
  },
  {
   "cell_type": "code",
   "execution_count": 9,
   "id": "e956c63f",
   "metadata": {},
   "outputs": [
    {
     "name": "stdout",
     "output_type": "stream",
     "text": [
      "[[1 2 3 4]]\n"
     ]
    }
   ],
   "source": [
    "print(a)"
   ]
  },
  {
   "cell_type": "markdown",
   "id": "e85ff01a",
   "metadata": {},
   "source": [
    "5. Attr."
   ]
  },
  {
   "cell_type": "code",
   "execution_count": 10,
   "id": "bfbdf798",
   "metadata": {},
   "outputs": [],
   "source": [
    "c = np.array([[1,2,3,4,5],[2,3,4,5,6],[20,30,40,50.34,60]])"
   ]
  },
  {
   "cell_type": "code",
   "execution_count": 11,
   "id": "54319e32",
   "metadata": {},
   "outputs": [
    {
     "data": {
      "text/plain": [
       "(3, 5)"
      ]
     },
     "execution_count": 11,
     "metadata": {},
     "output_type": "execute_result"
    }
   ],
   "source": [
    "c.shape"
   ]
  },
  {
   "cell_type": "code",
   "execution_count": 12,
   "id": "b3c6a74e",
   "metadata": {},
   "outputs": [
    {
     "data": {
      "text/plain": [
       "15"
      ]
     },
     "execution_count": 12,
     "metadata": {},
     "output_type": "execute_result"
    }
   ],
   "source": [
    "c.size"
   ]
  },
  {
   "cell_type": "code",
   "execution_count": 13,
   "id": "fdc7b8f0",
   "metadata": {},
   "outputs": [
    {
     "data": {
      "text/plain": [
       "dtype('float64')"
      ]
     },
     "execution_count": 13,
     "metadata": {},
     "output_type": "execute_result"
    }
   ],
   "source": [
    "c.dtype"
   ]
  },
  {
   "cell_type": "code",
   "execution_count": 14,
   "id": "3a8e8be6",
   "metadata": {},
   "outputs": [
    {
     "data": {
      "text/plain": [
       "8"
      ]
     },
     "execution_count": 14,
     "metadata": {},
     "output_type": "execute_result"
    }
   ],
   "source": [
    "c.itemsize"
   ]
  },
  {
   "cell_type": "code",
   "execution_count": 15,
   "id": "1dd257d6",
   "metadata": {},
   "outputs": [
    {
     "data": {
      "text/plain": [
       "dtype('float64')"
      ]
     },
     "execution_count": 15,
     "metadata": {},
     "output_type": "execute_result"
    }
   ],
   "source": [
    "c.dtype"
   ]
  },
  {
   "cell_type": "code",
   "execution_count": 16,
   "id": "bb100ede",
   "metadata": {},
   "outputs": [
    {
     "data": {
      "text/plain": [
       "array([[ 1.  ,  2.  ,  3.  ,  4.  ,  5.  ],\n",
       "       [ 2.  ,  3.  ,  4.  ,  5.  ,  6.  ],\n",
       "       [20.  , 30.  , 40.  , 50.34, 60.  ]])"
      ]
     },
     "execution_count": 16,
     "metadata": {},
     "output_type": "execute_result"
    }
   ],
   "source": [
    "c"
   ]
  },
  {
   "cell_type": "markdown",
   "id": "f0e7eb5f",
   "metadata": {},
   "source": [
    "6. Accessing"
   ]
  },
  {
   "cell_type": "markdown",
   "id": "2ee28ee1",
   "metadata": {},
   "source": [
    "6.1 2D"
   ]
  },
  {
   "cell_type": "code",
   "execution_count": 17,
   "id": "a0e0e874",
   "metadata": {},
   "outputs": [
    {
     "data": {
      "text/plain": [
       "array([3, 5, 4])"
      ]
     },
     "execution_count": 17,
     "metadata": {},
     "output_type": "execute_result"
    }
   ],
   "source": [
    "c = np.array([[1,2,3,4],[3,4,5,2],[5,2,4,5]])\n",
    "c[1][2]\n",
    "\n",
    "c[:,2]"
   ]
  },
  {
   "cell_type": "markdown",
   "id": "b5f396a3",
   "metadata": {},
   "source": [
    "3D"
   ]
  },
  {
   "cell_type": "code",
   "execution_count": 18,
   "id": "a8eab172",
   "metadata": {},
   "outputs": [
    {
     "data": {
      "text/plain": [
       "array([[[22,  3, 18],\n",
       "        [21,  5, 38],\n",
       "        [ 5, 16, 39]],\n",
       "\n",
       "       [[35, 33, 38],\n",
       "        [23, 24, 23],\n",
       "        [ 7, 12,  1]]])"
      ]
     },
     "execution_count": 18,
     "metadata": {},
     "output_type": "execute_result"
    }
   ],
   "source": [
    "c = np.random.randint(40, size = (2, 3, 3))\n",
    "c\n"
   ]
  },
  {
   "cell_type": "code",
   "execution_count": 19,
   "id": "81c324b7",
   "metadata": {},
   "outputs": [
    {
     "data": {
      "text/plain": [
       "3"
      ]
     },
     "execution_count": 19,
     "metadata": {},
     "output_type": "execute_result"
    }
   ],
   "source": [
    "c[:,0:3,1]  \n",
    "\n",
    "# get 21 9 21 and 8 18 38\n",
    "\n",
    "c[:,:,1]\n",
    "\n",
    "c[0,1:3,1:3]\n",
    "\n",
    "c.ndim"
   ]
  },
  {
   "cell_type": "markdown",
   "id": "19474fdf",
   "metadata": {},
   "source": [
    "# Arange"
   ]
  },
  {
   "cell_type": "code",
   "execution_count": 20,
   "id": "3c235778",
   "metadata": {},
   "outputs": [
    {
     "data": {
      "text/plain": [
       "array([[0, 1, 2, 3, 4],\n",
       "       [5, 6, 7, 8, 9]])"
      ]
     },
     "execution_count": 20,
     "metadata": {},
     "output_type": "execute_result"
    }
   ],
   "source": [
    "np.arange(10).reshape(2,5)"
   ]
  },
  {
   "cell_type": "code",
   "execution_count": 21,
   "id": "c514b701",
   "metadata": {},
   "outputs": [
    {
     "data": {
      "text/plain": [
       "array([ 0,  2,  4,  6,  8, 10, 12, 14, 16, 18])"
      ]
     },
     "execution_count": 21,
     "metadata": {},
     "output_type": "execute_result"
    }
   ],
   "source": [
    "np.arange(20,0,-2)\n",
    "\n",
    "np.arange(0,20,2)"
   ]
  },
  {
   "cell_type": "code",
   "execution_count": 22,
   "id": "555b9cc0",
   "metadata": {},
   "outputs": [
    {
     "data": {
      "text/plain": [
       "array([0.+0.j, 1.+0.j, 2.+0.j, 3.+0.j, 4.+0.j, 5.+0.j, 6.+0.j, 7.+0.j,\n",
       "       8.+0.j, 9.+0.j])"
      ]
     },
     "execution_count": 22,
     "metadata": {},
     "output_type": "execute_result"
    }
   ],
   "source": [
    "np.arange(0,10,dtype=complex)"
   ]
  },
  {
   "cell_type": "markdown",
   "id": "2efe6390",
   "metadata": {},
   "source": [
    "# Zeros"
   ]
  },
  {
   "cell_type": "code",
   "execution_count": 23,
   "id": "39d1fc7e",
   "metadata": {},
   "outputs": [
    {
     "data": {
      "text/plain": [
       "array([0., 0., 0., 0., 0., 0., 0., 0., 0., 0.])"
      ]
     },
     "execution_count": 23,
     "metadata": {},
     "output_type": "execute_result"
    }
   ],
   "source": [
    "np.zeros(10)"
   ]
  },
  {
   "cell_type": "markdown",
   "id": "0c982298",
   "metadata": {},
   "source": [
    "# ones"
   ]
  },
  {
   "cell_type": "code",
   "execution_count": 24,
   "id": "a05c99d2",
   "metadata": {},
   "outputs": [
    {
     "data": {
      "text/plain": [
       "array([[1, 1, 1, 1, 1],\n",
       "       [1, 1, 1, 1, 1]])"
      ]
     },
     "execution_count": 24,
     "metadata": {},
     "output_type": "execute_result"
    }
   ],
   "source": [
    "np.ones((2,5), dtype=int)"
   ]
  },
  {
   "cell_type": "markdown",
   "id": "0201417c",
   "metadata": {},
   "source": [
    "# linespace"
   ]
  },
  {
   "cell_type": "code",
   "execution_count": 25,
   "id": "1a702a55",
   "metadata": {},
   "outputs": [
    {
     "data": {
      "text/plain": [
       "array([ 2.,  6., 10.])"
      ]
     },
     "execution_count": 25,
     "metadata": {},
     "output_type": "execute_result"
    }
   ],
   "source": [
    "np.linspace(2,10, num = 3)"
   ]
  },
  {
   "cell_type": "code",
   "execution_count": 26,
   "id": "8b3c4ec0",
   "metadata": {},
   "outputs": [
    {
     "data": {
      "text/plain": [
       "(array([2, 3, 5, 6, 8]), 1.6)"
      ]
     },
     "execution_count": 26,
     "metadata": {},
     "output_type": "execute_result"
    }
   ],
   "source": [
    "np.linspace(2,10, num=5,retstep = True, endpoint=False, dtype= int)"
   ]
  },
  {
   "cell_type": "markdown",
   "id": "3ca69953",
   "metadata": {},
   "source": [
    "# identity"
   ]
  },
  {
   "cell_type": "code",
   "execution_count": 27,
   "id": "28197277",
   "metadata": {},
   "outputs": [
    {
     "data": {
      "text/plain": [
       "array([[1., 0., 0., 0., 0.],\n",
       "       [0., 1., 0., 0., 0.],\n",
       "       [0., 0., 1., 0., 0.],\n",
       "       [0., 0., 0., 1., 0.],\n",
       "       [0., 0., 0., 0., 1.]])"
      ]
     },
     "execution_count": 27,
     "metadata": {},
     "output_type": "execute_result"
    }
   ],
   "source": [
    "np.eye(5,5) # creates identity matrix."
   ]
  },
  {
   "cell_type": "code",
   "execution_count": 28,
   "id": "e7970f8a",
   "metadata": {},
   "outputs": [
    {
     "data": {
      "text/plain": [
       "array([[0., 0., 0., 0., 0.],\n",
       "       [1., 0., 0., 0., 0.],\n",
       "       [0., 1., 0., 0., 0.],\n",
       "       [0., 0., 1., 0., 0.],\n",
       "       [0., 0., 0., 1., 0.]])"
      ]
     },
     "execution_count": 28,
     "metadata": {},
     "output_type": "execute_result"
    }
   ],
   "source": [
    "np.eye(5,k = -1) # diagonal will shift "
   ]
  },
  {
   "cell_type": "code",
   "execution_count": 29,
   "id": "f1569fd2",
   "metadata": {},
   "outputs": [
    {
     "data": {
      "text/plain": [
       "array([[1, 0, 0, 0, 0],\n",
       "       [0, 2, 0, 0, 0],\n",
       "       [0, 0, 4, 0, 0],\n",
       "       [0, 0, 0, 5, 0],\n",
       "       [0, 0, 0, 0, 6]])"
      ]
     },
     "execution_count": 29,
     "metadata": {},
     "output_type": "execute_result"
    }
   ],
   "source": [
    "np.diag([1,2,4,5,6]) # gives 2d array with diag element as given"
   ]
  },
  {
   "cell_type": "markdown",
   "id": "a3d82ad4",
   "metadata": {},
   "source": [
    "# full"
   ]
  },
  {
   "cell_type": "code",
   "execution_count": 30,
   "id": "209be86b",
   "metadata": {},
   "outputs": [
    {
     "data": {
      "text/plain": [
       "array([[8, 8, 8, 8, 8, 8, 8, 8, 8, 8],\n",
       "       [8, 8, 8, 8, 8, 8, 8, 8, 8, 8],\n",
       "       [8, 8, 8, 8, 8, 8, 8, 8, 8, 8],\n",
       "       [8, 8, 8, 8, 8, 8, 8, 8, 8, 8],\n",
       "       [8, 8, 8, 8, 8, 8, 8, 8, 8, 8],\n",
       "       [8, 8, 8, 8, 8, 8, 8, 8, 8, 8],\n",
       "       [8, 8, 8, 8, 8, 8, 8, 8, 8, 8],\n",
       "       [8, 8, 8, 8, 8, 8, 8, 8, 8, 8],\n",
       "       [8, 8, 8, 8, 8, 8, 8, 8, 8, 8],\n",
       "       [8, 8, 8, 8, 8, 8, 8, 8, 8, 8]])"
      ]
     },
     "execution_count": 30,
     "metadata": {},
     "output_type": "execute_result"
    }
   ],
   "source": [
    "np.full((10,10),8) # creates 10X10 matrix with all 8 values"
   ]
  },
  {
   "cell_type": "markdown",
   "id": "e7f2a1f6",
   "metadata": {},
   "source": [
    "# stack\n",
    "Appending"
   ]
  },
  {
   "cell_type": "code",
   "execution_count": 50,
   "id": "2ade2c71",
   "metadata": {},
   "outputs": [],
   "source": [
    "a = np.random.randint(10, size = (3,5))\n",
    "b = np.random.randint(99, size = (3,5))\n"
   ]
  },
  {
   "cell_type": "code",
   "execution_count": 51,
   "id": "092f923a",
   "metadata": {},
   "outputs": [
    {
     "data": {
      "text/plain": [
       "array([[[ 9,  4,  9,  0,  4],\n",
       "        [ 7,  4,  2,  7,  1],\n",
       "        [ 0,  0,  2,  1,  9]],\n",
       "\n",
       "       [[38, 77, 68, 58, 64],\n",
       "        [69, 26, 52, 35, 80],\n",
       "        [44, 55, 93, 65, 41]]])"
      ]
     },
     "execution_count": 51,
     "metadata": {},
     "output_type": "execute_result"
    }
   ],
   "source": [
    "c = np.stack((a,b))\n",
    "c\n",
    "# c.ndim # should get 2d not 3d"
   ]
  },
  {
   "cell_type": "markdown",
   "id": "fae15802",
   "metadata": {},
   "source": [
    "# vstack "
   ]
  },
  {
   "cell_type": "code",
   "execution_count": 54,
   "id": "f38781cf",
   "metadata": {},
   "outputs": [
    {
     "data": {
      "text/plain": [
       "2"
      ]
     },
     "execution_count": 54,
     "metadata": {},
     "output_type": "execute_result"
    }
   ],
   "source": [
    "c = np.vstack((a,b))\n",
    "c\n",
    "c.ndim"
   ]
  },
  {
   "cell_type": "markdown",
   "id": "cc65b773",
   "metadata": {},
   "source": [
    "# hstack"
   ]
  },
  {
   "cell_type": "code",
   "execution_count": 34,
   "id": "a46f63e9",
   "metadata": {},
   "outputs": [
    {
     "name": "stdout",
     "output_type": "stream",
     "text": [
      "[[8 9 2 5 9]\n",
      " [8 9 8 2 2]\n",
      " [2 8 6 3 1]]\n",
      "[[50 86  3 97 10]\n",
      " [ 3  7 77 14 78]\n",
      " [79 29 36 84  6]]\n"
     ]
    },
    {
     "data": {
      "text/plain": [
       "array([[ 8,  9,  2,  5,  9, 50, 86,  3, 97, 10],\n",
       "       [ 8,  9,  8,  2,  2,  3,  7, 77, 14, 78],\n",
       "       [ 2,  8,  6,  3,  1, 79, 29, 36, 84,  6]])"
      ]
     },
     "execution_count": 34,
     "metadata": {},
     "output_type": "execute_result"
    }
   ],
   "source": [
    "a = np.random.randint(10, size = (3,5))\n",
    "b = np.random.randint(99, size = (3,5))\n",
    "\n",
    "print(a)\n",
    "print(b)\n",
    "\n",
    "np.hstack((a,b))"
   ]
  },
  {
   "cell_type": "markdown",
   "id": "16c691e2",
   "metadata": {},
   "source": [
    "# concatinate"
   ]
  },
  {
   "cell_type": "code",
   "execution_count": 35,
   "id": "4bf49ec2",
   "metadata": {},
   "outputs": [
    {
     "name": "stdout",
     "output_type": "stream",
     "text": [
      "[[1 1 2 2 9]\n",
      " [4 8 1 6 5]\n",
      " [0 9 5 0 8]]\n",
      "[[56 26 92 29  3]\n",
      " [31  5 24 38 74]\n",
      " [46 88 91 66 94]]\n"
     ]
    },
    {
     "data": {
      "text/plain": [
       "2"
      ]
     },
     "execution_count": 35,
     "metadata": {},
     "output_type": "execute_result"
    }
   ],
   "source": [
    "a = np.random.randint(10, size = (3,5))\n",
    "b = np.random.randint(99, size = (3,5))\n",
    "\n",
    "print(a)\n",
    "print(b)\n",
    "\n",
    "c = np.concatenate((a,b), axis= 0)\n",
    "c.ndim"
   ]
  },
  {
   "cell_type": "code",
   "execution_count": 36,
   "id": "bf1ff68b",
   "metadata": {},
   "outputs": [
    {
     "data": {
      "text/plain": [
       "array([[ 1,  1,  2,  2,  9, 56, 26, 92, 29,  3],\n",
       "       [ 4,  8,  1,  6,  5, 31,  5, 24, 38, 74],\n",
       "       [ 0,  9,  5,  0,  8, 46, 88, 91, 66, 94]])"
      ]
     },
     "execution_count": 36,
     "metadata": {},
     "output_type": "execute_result"
    }
   ],
   "source": [
    "c = np.concatenate((a,b), axis= 1) # corresponding rows of 2 arrays will get concatinated.\n",
    "c"
   ]
  },
  {
   "cell_type": "markdown",
   "id": "35f7c82e",
   "metadata": {},
   "source": [
    "# Random"
   ]
  },
  {
   "cell_type": "code",
   "execution_count": 37,
   "id": "b253643c",
   "metadata": {},
   "outputs": [
    {
     "data": {
      "text/plain": [
       "array([[0.3798713 , 0.9441287 , 0.27711918, 0.35921552, 0.70335526,\n",
       "        0.67764048, 0.30494891, 0.55245458],\n",
       "       [0.14987789, 0.23067312, 0.7968747 , 0.16454518, 0.11347158,\n",
       "        0.82432182, 0.76847477, 0.54956961],\n",
       "       [0.88542584, 0.23294232, 0.88752702, 0.978572  , 0.02685711,\n",
       "        0.63338608, 0.95871396, 0.55151013],\n",
       "       [0.77910803, 0.96948207, 0.5946048 , 0.11135855, 0.23714942,\n",
       "        0.30320357, 0.82895805, 0.22623927],\n",
       "       [0.75045809, 0.29106949, 0.67058506, 0.33731353, 0.94153923,\n",
       "        0.14684042, 0.70167535, 0.75512852],\n",
       "       [0.51823315, 0.59511554, 0.44871143, 0.9225462 , 0.73599215,\n",
       "        0.09190858, 0.42791636, 0.07189183],\n",
       "       [0.90192742, 0.4437553 , 0.73411695, 0.40789874, 0.00980106,\n",
       "        0.43168849, 0.36337772, 0.0565582 ],\n",
       "       [0.45609763, 0.45562246, 0.36622127, 0.10936993, 0.23357499,\n",
       "        0.92071128, 0.84809247, 0.00177372]])"
      ]
     },
     "execution_count": 37,
     "metadata": {},
     "output_type": "execute_result"
    }
   ],
   "source": [
    "c = np.random.rand(8,8)\n",
    "c"
   ]
  },
  {
   "cell_type": "code",
   "execution_count": 38,
   "id": "a434af16",
   "metadata": {},
   "outputs": [
    {
     "data": {
      "text/plain": [
       "6"
      ]
     },
     "execution_count": 38,
     "metadata": {},
     "output_type": "execute_result"
    }
   ],
   "source": [
    "b = c.reshape((2,2,2,2,2,2))\n",
    "b.ndim"
   ]
  },
  {
   "cell_type": "markdown",
   "id": "800c99ef",
   "metadata": {},
   "source": [
    "# resize"
   ]
  },
  {
   "cell_type": "code",
   "execution_count": 39,
   "id": "94db61fb",
   "metadata": {},
   "outputs": [
    {
     "name": "stdout",
     "output_type": "stream",
     "text": [
      "[0 1 2 3 4 5 6 7 8 9]\n"
     ]
    }
   ],
   "source": [
    "a = np.arange(10)\n",
    "print(a)"
   ]
  },
  {
   "cell_type": "code",
   "execution_count": 40,
   "id": "bdf86495",
   "metadata": {},
   "outputs": [
    {
     "data": {
      "text/plain": [
       "array([[0, 1, 2, 3],\n",
       "       [4, 5, 6, 7],\n",
       "       [8, 9, 0, 1],\n",
       "       [2, 3, 4, 5],\n",
       "       [6, 7, 8, 9],\n",
       "       [0, 1, 2, 3],\n",
       "       [4, 5, 6, 7],\n",
       "       [8, 9, 0, 1],\n",
       "       [2, 3, 4, 5],\n",
       "       [6, 7, 8, 9]])"
      ]
     },
     "execution_count": 40,
     "metadata": {},
     "output_type": "execute_result"
    }
   ],
   "source": [
    "np.resize(a,(10,4))"
   ]
  },
  {
   "cell_type": "code",
   "execution_count": null,
   "id": "a069d9c7",
   "metadata": {},
   "outputs": [],
   "source": []
  },
  {
   "cell_type": "markdown",
   "id": "6a1a030e",
   "metadata": {},
   "source": [
    "# Flatten and ravel\n",
    "Convert only higher dimension to lower dimension."
   ]
  },
  {
   "cell_type": "code",
   "execution_count": 41,
   "id": "61bb20bd",
   "metadata": {},
   "outputs": [
    {
     "data": {
      "text/plain": [
       "array([[[6, 5, 2, 9, 8, 2, 3, 4, 5, 6],\n",
       "        [7, 6, 6, 8, 8, 8, 6, 4, 8, 3],\n",
       "        [9, 8, 7, 6, 8, 3, 7, 9, 4, 2],\n",
       "        [9, 7, 6, 5, 6, 9, 2, 6, 5, 6],\n",
       "        [6, 6, 9, 7, 5, 2, 2, 5, 4, 7],\n",
       "        [7, 9, 8, 4, 4, 2, 4, 4, 9, 4],\n",
       "        [4, 3, 4, 5, 5, 4, 3, 6, 4, 2],\n",
       "        [4, 9, 2, 3, 2, 6, 4, 9, 6, 5],\n",
       "        [2, 3, 4, 9, 2, 5, 8, 9, 6, 8],\n",
       "        [2, 9, 5, 3, 6, 3, 3, 3, 9, 4]],\n",
       "\n",
       "       [[8, 3, 6, 3, 5, 3, 6, 6, 9, 7],\n",
       "        [8, 3, 4, 9, 4, 4, 5, 7, 3, 5],\n",
       "        [5, 2, 6, 6, 8, 6, 6, 9, 6, 8],\n",
       "        [4, 4, 9, 6, 8, 7, 7, 7, 4, 9],\n",
       "        [3, 8, 3, 6, 2, 3, 8, 4, 5, 5],\n",
       "        [3, 7, 6, 8, 5, 8, 7, 2, 3, 2],\n",
       "        [7, 3, 3, 8, 7, 7, 5, 2, 4, 8],\n",
       "        [2, 4, 2, 8, 5, 7, 6, 4, 2, 4],\n",
       "        [4, 4, 8, 2, 9, 9, 4, 6, 2, 7],\n",
       "        [4, 8, 6, 3, 8, 2, 8, 5, 7, 6]],\n",
       "\n",
       "       [[8, 9, 7, 7, 9, 3, 6, 4, 9, 5],\n",
       "        [4, 8, 2, 3, 8, 2, 9, 9, 4, 3],\n",
       "        [5, 6, 8, 7, 8, 5, 9, 5, 7, 5],\n",
       "        [2, 6, 7, 9, 8, 7, 9, 7, 9, 3],\n",
       "        [3, 5, 5, 8, 5, 5, 9, 3, 8, 4],\n",
       "        [8, 2, 2, 8, 7, 5, 9, 6, 7, 4],\n",
       "        [5, 6, 4, 8, 9, 2, 2, 4, 5, 8],\n",
       "        [3, 5, 6, 2, 3, 9, 6, 8, 4, 2],\n",
       "        [3, 8, 8, 6, 5, 6, 9, 3, 5, 7],\n",
       "        [2, 7, 2, 9, 6, 5, 2, 8, 5, 3]],\n",
       "\n",
       "       [[8, 9, 3, 5, 9, 2, 7, 7, 7, 2],\n",
       "        [7, 7, 8, 2, 3, 8, 7, 5, 4, 2],\n",
       "        [8, 6, 4, 3, 5, 3, 5, 7, 6, 3],\n",
       "        [9, 7, 5, 2, 2, 8, 5, 8, 4, 7],\n",
       "        [8, 5, 4, 9, 3, 9, 4, 4, 2, 9],\n",
       "        [5, 5, 4, 8, 4, 6, 2, 3, 7, 3],\n",
       "        [3, 9, 9, 8, 9, 6, 2, 3, 3, 2],\n",
       "        [8, 2, 7, 2, 8, 7, 8, 2, 3, 3],\n",
       "        [3, 3, 4, 9, 6, 2, 3, 8, 8, 4],\n",
       "        [7, 4, 7, 8, 5, 6, 9, 3, 2, 8]],\n",
       "\n",
       "       [[7, 5, 7, 5, 3, 9, 6, 2, 6, 5],\n",
       "        [3, 5, 8, 7, 5, 5, 7, 9, 4, 6],\n",
       "        [6, 5, 9, 5, 2, 7, 3, 4, 9, 9],\n",
       "        [5, 9, 3, 8, 6, 6, 8, 7, 4, 6],\n",
       "        [5, 2, 7, 7, 5, 9, 3, 4, 3, 8],\n",
       "        [7, 4, 4, 3, 2, 6, 4, 7, 8, 4],\n",
       "        [8, 2, 8, 6, 5, 4, 7, 5, 4, 8],\n",
       "        [7, 9, 6, 4, 9, 5, 7, 8, 4, 5],\n",
       "        [3, 8, 6, 7, 6, 7, 6, 7, 2, 8],\n",
       "        [6, 6, 4, 5, 2, 6, 8, 4, 2, 5]],\n",
       "\n",
       "       [[7, 8, 7, 6, 9, 3, 9, 4, 7, 8],\n",
       "        [9, 8, 5, 3, 3, 4, 8, 7, 4, 3],\n",
       "        [4, 2, 2, 3, 4, 9, 7, 4, 3, 8],\n",
       "        [5, 2, 2, 9, 5, 6, 2, 6, 2, 6],\n",
       "        [9, 3, 2, 8, 8, 3, 6, 3, 8, 6],\n",
       "        [9, 4, 9, 9, 6, 7, 9, 7, 2, 3],\n",
       "        [3, 3, 7, 8, 6, 6, 9, 7, 6, 6],\n",
       "        [7, 7, 8, 8, 7, 3, 7, 8, 6, 2],\n",
       "        [6, 2, 7, 6, 9, 2, 4, 7, 4, 3],\n",
       "        [7, 3, 9, 8, 8, 9, 8, 4, 8, 8]],\n",
       "\n",
       "       [[2, 5, 3, 7, 7, 5, 7, 7, 9, 9],\n",
       "        [5, 9, 3, 4, 4, 8, 4, 3, 4, 4],\n",
       "        [3, 5, 4, 9, 2, 4, 5, 5, 2, 7],\n",
       "        [2, 4, 4, 4, 5, 3, 5, 2, 9, 4],\n",
       "        [7, 8, 9, 2, 8, 3, 4, 2, 2, 2],\n",
       "        [9, 2, 8, 7, 7, 2, 4, 4, 6, 6],\n",
       "        [7, 7, 8, 2, 4, 3, 8, 9, 2, 2],\n",
       "        [5, 3, 2, 3, 3, 7, 8, 2, 8, 3],\n",
       "        [6, 2, 5, 3, 8, 2, 5, 9, 3, 3],\n",
       "        [6, 5, 5, 7, 3, 3, 8, 7, 3, 2]],\n",
       "\n",
       "       [[9, 8, 9, 3, 9, 2, 4, 3, 3, 5],\n",
       "        [4, 9, 4, 5, 9, 7, 8, 8, 4, 8],\n",
       "        [6, 8, 9, 3, 2, 3, 3, 5, 5, 6],\n",
       "        [4, 4, 2, 9, 2, 7, 4, 5, 6, 8],\n",
       "        [7, 5, 8, 9, 7, 7, 7, 6, 3, 5],\n",
       "        [6, 4, 2, 4, 2, 3, 9, 6, 2, 8],\n",
       "        [7, 2, 7, 3, 2, 4, 8, 6, 7, 4],\n",
       "        [7, 2, 6, 9, 6, 7, 4, 2, 9, 2],\n",
       "        [5, 4, 7, 2, 6, 7, 7, 5, 2, 8],\n",
       "        [7, 6, 6, 9, 8, 4, 6, 9, 9, 2]],\n",
       "\n",
       "       [[4, 3, 8, 8, 2, 5, 4, 2, 2, 3],\n",
       "        [2, 3, 6, 2, 4, 3, 9, 4, 7, 8],\n",
       "        [4, 2, 9, 6, 7, 4, 3, 7, 6, 6],\n",
       "        [2, 3, 6, 8, 6, 3, 3, 2, 6, 6],\n",
       "        [7, 9, 9, 6, 7, 6, 8, 6, 7, 3],\n",
       "        [8, 7, 4, 3, 9, 2, 7, 9, 5, 4],\n",
       "        [3, 2, 6, 5, 4, 2, 3, 9, 6, 8],\n",
       "        [9, 8, 4, 7, 2, 6, 9, 3, 4, 6],\n",
       "        [9, 2, 2, 7, 3, 3, 5, 7, 9, 6],\n",
       "        [5, 7, 7, 9, 2, 2, 9, 9, 6, 3]],\n",
       "\n",
       "       [[6, 7, 6, 9, 3, 2, 4, 2, 2, 2],\n",
       "        [9, 6, 8, 7, 8, 8, 7, 6, 5, 7],\n",
       "        [4, 8, 8, 5, 5, 8, 9, 6, 4, 8],\n",
       "        [4, 5, 6, 4, 8, 5, 4, 6, 5, 7],\n",
       "        [6, 7, 7, 6, 2, 5, 5, 9, 6, 8],\n",
       "        [6, 5, 4, 5, 8, 4, 2, 4, 9, 5],\n",
       "        [5, 8, 8, 9, 8, 8, 7, 6, 4, 9],\n",
       "        [4, 2, 2, 9, 2, 6, 5, 3, 8, 8],\n",
       "        [5, 9, 2, 5, 6, 4, 4, 2, 6, 2],\n",
       "        [4, 7, 6, 7, 5, 6, 2, 6, 5, 4]]])"
      ]
     },
     "execution_count": 41,
     "metadata": {},
     "output_type": "execute_result"
    }
   ],
   "source": [
    "a = np.random.randint(2,10,size=(10,10,10))\n",
    "a"
   ]
  },
  {
   "cell_type": "code",
   "execution_count": 42,
   "id": "b30c6395",
   "metadata": {},
   "outputs": [
    {
     "data": {
      "text/plain": [
       "array([6, 5, 2, 9, 8, 2, 3, 4, 5, 6, 7, 6, 6, 8, 8, 8, 6, 4, 8, 3, 9, 8,\n",
       "       7, 6, 8, 3, 7, 9, 4, 2, 9, 7, 6, 5, 6, 9, 2, 6, 5, 6, 6, 6, 9, 7,\n",
       "       5, 2, 2, 5, 4, 7, 7, 9, 8, 4, 4, 2, 4, 4, 9, 4, 4, 3, 4, 5, 5, 4,\n",
       "       3, 6, 4, 2, 4, 9, 2, 3, 2, 6, 4, 9, 6, 5, 2, 3, 4, 9, 2, 5, 8, 9,\n",
       "       6, 8, 2, 9, 5, 3, 6, 3, 3, 3, 9, 4, 8, 3, 6, 3, 5, 3, 6, 6, 9, 7,\n",
       "       8, 3, 4, 9, 4, 4, 5, 7, 3, 5, 5, 2, 6, 6, 8, 6, 6, 9, 6, 8, 4, 4,\n",
       "       9, 6, 8, 7, 7, 7, 4, 9, 3, 8, 3, 6, 2, 3, 8, 4, 5, 5, 3, 7, 6, 8,\n",
       "       5, 8, 7, 2, 3, 2, 7, 3, 3, 8, 7, 7, 5, 2, 4, 8, 2, 4, 2, 8, 5, 7,\n",
       "       6, 4, 2, 4, 4, 4, 8, 2, 9, 9, 4, 6, 2, 7, 4, 8, 6, 3, 8, 2, 8, 5,\n",
       "       7, 6, 8, 9, 7, 7, 9, 3, 6, 4, 9, 5, 4, 8, 2, 3, 8, 2, 9, 9, 4, 3,\n",
       "       5, 6, 8, 7, 8, 5, 9, 5, 7, 5, 2, 6, 7, 9, 8, 7, 9, 7, 9, 3, 3, 5,\n",
       "       5, 8, 5, 5, 9, 3, 8, 4, 8, 2, 2, 8, 7, 5, 9, 6, 7, 4, 5, 6, 4, 8,\n",
       "       9, 2, 2, 4, 5, 8, 3, 5, 6, 2, 3, 9, 6, 8, 4, 2, 3, 8, 8, 6, 5, 6,\n",
       "       9, 3, 5, 7, 2, 7, 2, 9, 6, 5, 2, 8, 5, 3, 8, 9, 3, 5, 9, 2, 7, 7,\n",
       "       7, 2, 7, 7, 8, 2, 3, 8, 7, 5, 4, 2, 8, 6, 4, 3, 5, 3, 5, 7, 6, 3,\n",
       "       9, 7, 5, 2, 2, 8, 5, 8, 4, 7, 8, 5, 4, 9, 3, 9, 4, 4, 2, 9, 5, 5,\n",
       "       4, 8, 4, 6, 2, 3, 7, 3, 3, 9, 9, 8, 9, 6, 2, 3, 3, 2, 8, 2, 7, 2,\n",
       "       8, 7, 8, 2, 3, 3, 3, 3, 4, 9, 6, 2, 3, 8, 8, 4, 7, 4, 7, 8, 5, 6,\n",
       "       9, 3, 2, 8, 7, 5, 7, 5, 3, 9, 6, 2, 6, 5, 3, 5, 8, 7, 5, 5, 7, 9,\n",
       "       4, 6, 6, 5, 9, 5, 2, 7, 3, 4, 9, 9, 5, 9, 3, 8, 6, 6, 8, 7, 4, 6,\n",
       "       5, 2, 7, 7, 5, 9, 3, 4, 3, 8, 7, 4, 4, 3, 2, 6, 4, 7, 8, 4, 8, 2,\n",
       "       8, 6, 5, 4, 7, 5, 4, 8, 7, 9, 6, 4, 9, 5, 7, 8, 4, 5, 3, 8, 6, 7,\n",
       "       6, 7, 6, 7, 2, 8, 6, 6, 4, 5, 2, 6, 8, 4, 2, 5, 7, 8, 7, 6, 9, 3,\n",
       "       9, 4, 7, 8, 9, 8, 5, 3, 3, 4, 8, 7, 4, 3, 4, 2, 2, 3, 4, 9, 7, 4,\n",
       "       3, 8, 5, 2, 2, 9, 5, 6, 2, 6, 2, 6, 9, 3, 2, 8, 8, 3, 6, 3, 8, 6,\n",
       "       9, 4, 9, 9, 6, 7, 9, 7, 2, 3, 3, 3, 7, 8, 6, 6, 9, 7, 6, 6, 7, 7,\n",
       "       8, 8, 7, 3, 7, 8, 6, 2, 6, 2, 7, 6, 9, 2, 4, 7, 4, 3, 7, 3, 9, 8,\n",
       "       8, 9, 8, 4, 8, 8, 2, 5, 3, 7, 7, 5, 7, 7, 9, 9, 5, 9, 3, 4, 4, 8,\n",
       "       4, 3, 4, 4, 3, 5, 4, 9, 2, 4, 5, 5, 2, 7, 2, 4, 4, 4, 5, 3, 5, 2,\n",
       "       9, 4, 7, 8, 9, 2, 8, 3, 4, 2, 2, 2, 9, 2, 8, 7, 7, 2, 4, 4, 6, 6,\n",
       "       7, 7, 8, 2, 4, 3, 8, 9, 2, 2, 5, 3, 2, 3, 3, 7, 8, 2, 8, 3, 6, 2,\n",
       "       5, 3, 8, 2, 5, 9, 3, 3, 6, 5, 5, 7, 3, 3, 8, 7, 3, 2, 9, 8, 9, 3,\n",
       "       9, 2, 4, 3, 3, 5, 4, 9, 4, 5, 9, 7, 8, 8, 4, 8, 6, 8, 9, 3, 2, 3,\n",
       "       3, 5, 5, 6, 4, 4, 2, 9, 2, 7, 4, 5, 6, 8, 7, 5, 8, 9, 7, 7, 7, 6,\n",
       "       3, 5, 6, 4, 2, 4, 2, 3, 9, 6, 2, 8, 7, 2, 7, 3, 2, 4, 8, 6, 7, 4,\n",
       "       7, 2, 6, 9, 6, 7, 4, 2, 9, 2, 5, 4, 7, 2, 6, 7, 7, 5, 2, 8, 7, 6,\n",
       "       6, 9, 8, 4, 6, 9, 9, 2, 4, 3, 8, 8, 2, 5, 4, 2, 2, 3, 2, 3, 6, 2,\n",
       "       4, 3, 9, 4, 7, 8, 4, 2, 9, 6, 7, 4, 3, 7, 6, 6, 2, 3, 6, 8, 6, 3,\n",
       "       3, 2, 6, 6, 7, 9, 9, 6, 7, 6, 8, 6, 7, 3, 8, 7, 4, 3, 9, 2, 7, 9,\n",
       "       5, 4, 3, 2, 6, 5, 4, 2, 3, 9, 6, 8, 9, 8, 4, 7, 2, 6, 9, 3, 4, 6,\n",
       "       9, 2, 2, 7, 3, 3, 5, 7, 9, 6, 5, 7, 7, 9, 2, 2, 9, 9, 6, 3, 6, 7,\n",
       "       6, 9, 3, 2, 4, 2, 2, 2, 9, 6, 8, 7, 8, 8, 7, 6, 5, 7, 4, 8, 8, 5,\n",
       "       5, 8, 9, 6, 4, 8, 4, 5, 6, 4, 8, 5, 4, 6, 5, 7, 6, 7, 7, 6, 2, 5,\n",
       "       5, 9, 6, 8, 6, 5, 4, 5, 8, 4, 2, 4, 9, 5, 5, 8, 8, 9, 8, 8, 7, 6,\n",
       "       4, 9, 4, 2, 2, 9, 2, 6, 5, 3, 8, 8, 5, 9, 2, 5, 6, 4, 4, 2, 6, 2,\n",
       "       4, 7, 6, 7, 5, 6, 2, 6, 5, 4])"
      ]
     },
     "execution_count": 42,
     "metadata": {},
     "output_type": "execute_result"
    }
   ],
   "source": [
    "a.flatten()\n"
   ]
  },
  {
   "cell_type": "code",
   "execution_count": 43,
   "id": "553d1d48",
   "metadata": {},
   "outputs": [
    {
     "data": {
      "text/plain": [
       "array([6, 5, 2, 9, 8, 2, 3, 4, 5, 6, 7, 6, 6, 8, 8, 8, 6, 4, 8, 3, 9, 8,\n",
       "       7, 6, 8, 3, 7, 9, 4, 2, 9, 7, 6, 5, 6, 9, 2, 6, 5, 6, 6, 6, 9, 7,\n",
       "       5, 2, 2, 5, 4, 7, 7, 9, 8, 4, 4, 2, 4, 4, 9, 4, 4, 3, 4, 5, 5, 4,\n",
       "       3, 6, 4, 2, 4, 9, 2, 3, 2, 6, 4, 9, 6, 5, 2, 3, 4, 9, 2, 5, 8, 9,\n",
       "       6, 8, 2, 9, 5, 3, 6, 3, 3, 3, 9, 4, 8, 3, 6, 3, 5, 3, 6, 6, 9, 7,\n",
       "       8, 3, 4, 9, 4, 4, 5, 7, 3, 5, 5, 2, 6, 6, 8, 6, 6, 9, 6, 8, 4, 4,\n",
       "       9, 6, 8, 7, 7, 7, 4, 9, 3, 8, 3, 6, 2, 3, 8, 4, 5, 5, 3, 7, 6, 8,\n",
       "       5, 8, 7, 2, 3, 2, 7, 3, 3, 8, 7, 7, 5, 2, 4, 8, 2, 4, 2, 8, 5, 7,\n",
       "       6, 4, 2, 4, 4, 4, 8, 2, 9, 9, 4, 6, 2, 7, 4, 8, 6, 3, 8, 2, 8, 5,\n",
       "       7, 6, 8, 9, 7, 7, 9, 3, 6, 4, 9, 5, 4, 8, 2, 3, 8, 2, 9, 9, 4, 3,\n",
       "       5, 6, 8, 7, 8, 5, 9, 5, 7, 5, 2, 6, 7, 9, 8, 7, 9, 7, 9, 3, 3, 5,\n",
       "       5, 8, 5, 5, 9, 3, 8, 4, 8, 2, 2, 8, 7, 5, 9, 6, 7, 4, 5, 6, 4, 8,\n",
       "       9, 2, 2, 4, 5, 8, 3, 5, 6, 2, 3, 9, 6, 8, 4, 2, 3, 8, 8, 6, 5, 6,\n",
       "       9, 3, 5, 7, 2, 7, 2, 9, 6, 5, 2, 8, 5, 3, 8, 9, 3, 5, 9, 2, 7, 7,\n",
       "       7, 2, 7, 7, 8, 2, 3, 8, 7, 5, 4, 2, 8, 6, 4, 3, 5, 3, 5, 7, 6, 3,\n",
       "       9, 7, 5, 2, 2, 8, 5, 8, 4, 7, 8, 5, 4, 9, 3, 9, 4, 4, 2, 9, 5, 5,\n",
       "       4, 8, 4, 6, 2, 3, 7, 3, 3, 9, 9, 8, 9, 6, 2, 3, 3, 2, 8, 2, 7, 2,\n",
       "       8, 7, 8, 2, 3, 3, 3, 3, 4, 9, 6, 2, 3, 8, 8, 4, 7, 4, 7, 8, 5, 6,\n",
       "       9, 3, 2, 8, 7, 5, 7, 5, 3, 9, 6, 2, 6, 5, 3, 5, 8, 7, 5, 5, 7, 9,\n",
       "       4, 6, 6, 5, 9, 5, 2, 7, 3, 4, 9, 9, 5, 9, 3, 8, 6, 6, 8, 7, 4, 6,\n",
       "       5, 2, 7, 7, 5, 9, 3, 4, 3, 8, 7, 4, 4, 3, 2, 6, 4, 7, 8, 4, 8, 2,\n",
       "       8, 6, 5, 4, 7, 5, 4, 8, 7, 9, 6, 4, 9, 5, 7, 8, 4, 5, 3, 8, 6, 7,\n",
       "       6, 7, 6, 7, 2, 8, 6, 6, 4, 5, 2, 6, 8, 4, 2, 5, 7, 8, 7, 6, 9, 3,\n",
       "       9, 4, 7, 8, 9, 8, 5, 3, 3, 4, 8, 7, 4, 3, 4, 2, 2, 3, 4, 9, 7, 4,\n",
       "       3, 8, 5, 2, 2, 9, 5, 6, 2, 6, 2, 6, 9, 3, 2, 8, 8, 3, 6, 3, 8, 6,\n",
       "       9, 4, 9, 9, 6, 7, 9, 7, 2, 3, 3, 3, 7, 8, 6, 6, 9, 7, 6, 6, 7, 7,\n",
       "       8, 8, 7, 3, 7, 8, 6, 2, 6, 2, 7, 6, 9, 2, 4, 7, 4, 3, 7, 3, 9, 8,\n",
       "       8, 9, 8, 4, 8, 8, 2, 5, 3, 7, 7, 5, 7, 7, 9, 9, 5, 9, 3, 4, 4, 8,\n",
       "       4, 3, 4, 4, 3, 5, 4, 9, 2, 4, 5, 5, 2, 7, 2, 4, 4, 4, 5, 3, 5, 2,\n",
       "       9, 4, 7, 8, 9, 2, 8, 3, 4, 2, 2, 2, 9, 2, 8, 7, 7, 2, 4, 4, 6, 6,\n",
       "       7, 7, 8, 2, 4, 3, 8, 9, 2, 2, 5, 3, 2, 3, 3, 7, 8, 2, 8, 3, 6, 2,\n",
       "       5, 3, 8, 2, 5, 9, 3, 3, 6, 5, 5, 7, 3, 3, 8, 7, 3, 2, 9, 8, 9, 3,\n",
       "       9, 2, 4, 3, 3, 5, 4, 9, 4, 5, 9, 7, 8, 8, 4, 8, 6, 8, 9, 3, 2, 3,\n",
       "       3, 5, 5, 6, 4, 4, 2, 9, 2, 7, 4, 5, 6, 8, 7, 5, 8, 9, 7, 7, 7, 6,\n",
       "       3, 5, 6, 4, 2, 4, 2, 3, 9, 6, 2, 8, 7, 2, 7, 3, 2, 4, 8, 6, 7, 4,\n",
       "       7, 2, 6, 9, 6, 7, 4, 2, 9, 2, 5, 4, 7, 2, 6, 7, 7, 5, 2, 8, 7, 6,\n",
       "       6, 9, 8, 4, 6, 9, 9, 2, 4, 3, 8, 8, 2, 5, 4, 2, 2, 3, 2, 3, 6, 2,\n",
       "       4, 3, 9, 4, 7, 8, 4, 2, 9, 6, 7, 4, 3, 7, 6, 6, 2, 3, 6, 8, 6, 3,\n",
       "       3, 2, 6, 6, 7, 9, 9, 6, 7, 6, 8, 6, 7, 3, 8, 7, 4, 3, 9, 2, 7, 9,\n",
       "       5, 4, 3, 2, 6, 5, 4, 2, 3, 9, 6, 8, 9, 8, 4, 7, 2, 6, 9, 3, 4, 6,\n",
       "       9, 2, 2, 7, 3, 3, 5, 7, 9, 6, 5, 7, 7, 9, 2, 2, 9, 9, 6, 3, 6, 7,\n",
       "       6, 9, 3, 2, 4, 2, 2, 2, 9, 6, 8, 7, 8, 8, 7, 6, 5, 7, 4, 8, 8, 5,\n",
       "       5, 8, 9, 6, 4, 8, 4, 5, 6, 4, 8, 5, 4, 6, 5, 7, 6, 7, 7, 6, 2, 5,\n",
       "       5, 9, 6, 8, 6, 5, 4, 5, 8, 4, 2, 4, 9, 5, 5, 8, 8, 9, 8, 8, 7, 6,\n",
       "       4, 9, 4, 2, 2, 9, 2, 6, 5, 3, 8, 8, 5, 9, 2, 5, 6, 4, 4, 2, 6, 2,\n",
       "       4, 7, 6, 7, 5, 6, 2, 6, 5, 4])"
      ]
     },
     "execution_count": 43,
     "metadata": {},
     "output_type": "execute_result"
    }
   ],
   "source": [
    "a.ravel() # just view, ref to the parent array."
   ]
  },
  {
   "cell_type": "markdown",
   "id": "978baa64",
   "metadata": {},
   "source": [
    "# Transpose"
   ]
  },
  {
   "cell_type": "code",
   "execution_count": 44,
   "id": "aa74e55e",
   "metadata": {},
   "outputs": [],
   "source": [
    "a = np.arange(10).reshape(5,2)"
   ]
  },
  {
   "cell_type": "code",
   "execution_count": 45,
   "id": "4be24daf",
   "metadata": {},
   "outputs": [
    {
     "name": "stdout",
     "output_type": "stream",
     "text": [
      "[[0 1]\n",
      " [2 3]\n",
      " [4 5]\n",
      " [6 7]\n",
      " [8 9]]\n"
     ]
    }
   ],
   "source": [
    "print(a)"
   ]
  },
  {
   "cell_type": "code",
   "execution_count": 46,
   "id": "305b2227",
   "metadata": {},
   "outputs": [
    {
     "data": {
      "text/plain": [
       "array([[0, 2, 4, 6, 8],\n",
       "       [1, 3, 5, 7, 9]])"
      ]
     },
     "execution_count": 46,
     "metadata": {},
     "output_type": "execute_result"
    }
   ],
   "source": [
    "np.transpose(a)"
   ]
  },
  {
   "cell_type": "code",
   "execution_count": null,
   "id": "32a342d2",
   "metadata": {},
   "outputs": [],
   "source": []
  }
 ],
 "metadata": {
  "kernelspec": {
   "display_name": "base",
   "language": "python",
   "name": "python3"
  },
  "language_info": {
   "codemirror_mode": {
    "name": "ipython",
    "version": 3
   },
   "file_extension": ".py",
   "mimetype": "text/x-python",
   "name": "python",
   "nbconvert_exporter": "python",
   "pygments_lexer": "ipython3",
   "version": "3.11.5"
  }
 },
 "nbformat": 4,
 "nbformat_minor": 5
}
